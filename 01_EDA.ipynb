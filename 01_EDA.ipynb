{
 "cells": [
  {
   "cell_type": "code",
   "execution_count": 1,
   "id": "9e3b4e88",
   "metadata": {},
   "outputs": [],
   "source": [
    "# импорт\n",
    "import numpy as np\n",
    "import pandas as pd\n",
    "import matplotlib.pyplot as plt\n",
    "import seaborn as sns\n",
    "\n",
    "import json\n",
    "import yaml\n",
    "\n",
    "import warnings\n",
    "warnings.filterwarnings(\"ignore\")"
   ]
  },
  {
   "cell_type": "markdown",
   "id": "57f8e9a2",
   "metadata": {},
   "source": [
    "# Описание задачи"
   ]
  },
  {
   "cell_type": "markdown",
   "id": "a9bf2c58",
   "metadata": {},
   "source": [
    "https://www.kaggle.com/datasets/jealousleopard/goodreadsbooks"
   ]
  },
  {
   "cell_type": "markdown",
   "id": "f508b92d",
   "metadata": {},
   "source": [
    "Состав данных:\n",
    "- **bookID**: идентификатор книги\n",
    "- **title**: название книги\n",
    "- **authors**: автор/авторы книги\n",
    "- **average_rating**: рейтинг книги (на основе оценок пользователей) - **target**\n",
    "- **isbn**: международный уникальный книжный номер\n",
    "- **isbn13**: новый формат isbn, принятый в 2007 (13 цифр) \n",
    "- **language_code**: язык книги\n",
    "- **num_pages**: количество страниц\n",
    "- **ratings_count**: количество оценок книги\n",
    "- **text_reviews_count**: количество отзывов на книгу\n",
    "- **publication_date**: дата публикации\n",
    "- **publisher**: издательство\n",
    "- **genres**: жанр"
   ]
  },
  {
   "cell_type": "markdown",
   "id": "d0368105",
   "metadata": {},
   "source": [
    "Датасет содержит информацию о примерно 11 000 книгах. Данные позволяют предсказать рейтинг книги по её признаковому описанию. \n",
    "\n",
    "Полученное предсказание находит практическое применение среди издательств и онлайн библиотек. Высокий рейтинг книги определяет её популярность среди читателей. Следовательно, сервисы могут планировать закупки прав преимущественно на те книги, которые будут наиболее востребованны. "
   ]
  },
  {
   "cell_type": "markdown",
   "id": "f6f7ad22",
   "metadata": {},
   "source": [
    "## Чтение данных "
   ]
  },
  {
   "cell_type": "code",
   "execution_count": 2,
   "id": "bc770dc2",
   "metadata": {},
   "outputs": [
    {
     "data": {
      "text/html": [
       "<div>\n",
       "<style scoped>\n",
       "    .dataframe tbody tr th:only-of-type {\n",
       "        vertical-align: middle;\n",
       "    }\n",
       "\n",
       "    .dataframe tbody tr th {\n",
       "        vertical-align: top;\n",
       "    }\n",
       "\n",
       "    .dataframe thead th {\n",
       "        text-align: right;\n",
       "    }\n",
       "</style>\n",
       "<table border=\"1\" class=\"dataframe\">\n",
       "  <thead>\n",
       "    <tr style=\"text-align: right;\">\n",
       "      <th></th>\n",
       "      <th>bookID</th>\n",
       "      <th>title</th>\n",
       "      <th>authors</th>\n",
       "      <th>average_rating</th>\n",
       "      <th>isbn</th>\n",
       "      <th>isbn13</th>\n",
       "      <th>language_code</th>\n",
       "      <th>num_pages</th>\n",
       "      <th>ratings_count</th>\n",
       "      <th>text_reviews_count</th>\n",
       "      <th>publication_date</th>\n",
       "      <th>publisher</th>\n",
       "      <th>genre</th>\n",
       "    </tr>\n",
       "  </thead>\n",
       "  <tbody>\n",
       "    <tr>\n",
       "      <th>0</th>\n",
       "      <td>1</td>\n",
       "      <td>Harry Potter and the Half-Blood Prince (Harry ...</td>\n",
       "      <td>J.K. Rowling/Mary GrandPré</td>\n",
       "      <td>4.57</td>\n",
       "      <td>0439785960</td>\n",
       "      <td>9780439785969</td>\n",
       "      <td>eng</td>\n",
       "      <td>652</td>\n",
       "      <td>2095690</td>\n",
       "      <td>27591</td>\n",
       "      <td>9/16/2006</td>\n",
       "      <td>Scholastic Inc.</td>\n",
       "      <td>Fantasy</td>\n",
       "    </tr>\n",
       "    <tr>\n",
       "      <th>1</th>\n",
       "      <td>2</td>\n",
       "      <td>Harry Potter and the Order of the Phoenix (Har...</td>\n",
       "      <td>J.K. Rowling/Mary GrandPré</td>\n",
       "      <td>4.49</td>\n",
       "      <td>0439358078</td>\n",
       "      <td>9780439358071</td>\n",
       "      <td>eng</td>\n",
       "      <td>870</td>\n",
       "      <td>2153167</td>\n",
       "      <td>29221</td>\n",
       "      <td>9/1/2004</td>\n",
       "      <td>Scholastic Inc.</td>\n",
       "      <td>Fantasy</td>\n",
       "    </tr>\n",
       "    <tr>\n",
       "      <th>2</th>\n",
       "      <td>4</td>\n",
       "      <td>Harry Potter and the Chamber of Secrets (Harry...</td>\n",
       "      <td>J.K. Rowling</td>\n",
       "      <td>4.42</td>\n",
       "      <td>0439554896</td>\n",
       "      <td>9780439554893</td>\n",
       "      <td>eng</td>\n",
       "      <td>352</td>\n",
       "      <td>6333</td>\n",
       "      <td>244</td>\n",
       "      <td>11/1/2003</td>\n",
       "      <td>Scholastic</td>\n",
       "      <td>Fantasy</td>\n",
       "    </tr>\n",
       "    <tr>\n",
       "      <th>3</th>\n",
       "      <td>5</td>\n",
       "      <td>Harry Potter and the Prisoner of Azkaban (Harr...</td>\n",
       "      <td>J.K. Rowling/Mary GrandPré</td>\n",
       "      <td>4.56</td>\n",
       "      <td>043965548X</td>\n",
       "      <td>9780439655484</td>\n",
       "      <td>eng</td>\n",
       "      <td>435</td>\n",
       "      <td>2339585</td>\n",
       "      <td>36325</td>\n",
       "      <td>5/1/2004</td>\n",
       "      <td>Scholastic Inc.</td>\n",
       "      <td>Fantasy</td>\n",
       "    </tr>\n",
       "    <tr>\n",
       "      <th>4</th>\n",
       "      <td>8</td>\n",
       "      <td>Harry Potter Boxed Set  Books 1-5 (Harry Potte...</td>\n",
       "      <td>J.K. Rowling/Mary GrandPré</td>\n",
       "      <td>4.78</td>\n",
       "      <td>0439682584</td>\n",
       "      <td>9780439682589</td>\n",
       "      <td>eng</td>\n",
       "      <td>2690</td>\n",
       "      <td>41428</td>\n",
       "      <td>164</td>\n",
       "      <td>9/13/2004</td>\n",
       "      <td>Scholastic</td>\n",
       "      <td>Fantasy</td>\n",
       "    </tr>\n",
       "  </tbody>\n",
       "</table>\n",
       "</div>"
      ],
      "text/plain": [
       "   bookID                                              title  \\\n",
       "0       1  Harry Potter and the Half-Blood Prince (Harry ...   \n",
       "1       2  Harry Potter and the Order of the Phoenix (Har...   \n",
       "2       4  Harry Potter and the Chamber of Secrets (Harry...   \n",
       "3       5  Harry Potter and the Prisoner of Azkaban (Harr...   \n",
       "4       8  Harry Potter Boxed Set  Books 1-5 (Harry Potte...   \n",
       "\n",
       "                      authors  average_rating        isbn         isbn13  \\\n",
       "0  J.K. Rowling/Mary GrandPré            4.57  0439785960  9780439785969   \n",
       "1  J.K. Rowling/Mary GrandPré            4.49  0439358078  9780439358071   \n",
       "2                J.K. Rowling            4.42  0439554896  9780439554893   \n",
       "3  J.K. Rowling/Mary GrandPré            4.56  043965548X  9780439655484   \n",
       "4  J.K. Rowling/Mary GrandPré            4.78  0439682584  9780439682589   \n",
       "\n",
       "  language_code    num_pages  ratings_count  text_reviews_count  \\\n",
       "0           eng          652        2095690               27591   \n",
       "1           eng          870        2153167               29221   \n",
       "2           eng          352           6333                 244   \n",
       "3           eng          435        2339585               36325   \n",
       "4           eng         2690          41428                 164   \n",
       "\n",
       "  publication_date        publisher    genre  \n",
       "0        9/16/2006  Scholastic Inc.  Fantasy  \n",
       "1         9/1/2004  Scholastic Inc.  Fantasy  \n",
       "2        11/1/2003       Scholastic  Fantasy  \n",
       "3         5/1/2004  Scholastic Inc.  Fantasy  \n",
       "4        9/13/2004       Scholastic  Fantasy  "
      ]
     },
     "execution_count": 2,
     "metadata": {},
     "output_type": "execute_result"
    }
   ],
   "source": [
    "df = pd.read_csv('good_read_books.csv', on_bad_lines='skip')\n",
    "df.head()"
   ]
  },
  {
   "cell_type": "code",
   "execution_count": 3,
   "id": "e57080b0",
   "metadata": {},
   "outputs": [
    {
     "data": {
      "text/plain": [
       "(11123, 13)"
      ]
     },
     "execution_count": 3,
     "metadata": {},
     "output_type": "execute_result"
    }
   ],
   "source": [
    "# размер датасета\n",
    "df.shape"
   ]
  },
  {
   "cell_type": "code",
   "execution_count": 4,
   "id": "ebdd5589",
   "metadata": {},
   "outputs": [
    {
     "name": "stdout",
     "output_type": "stream",
     "text": [
      "<class 'pandas.core.frame.DataFrame'>\n",
      "RangeIndex: 11123 entries, 0 to 11122\n",
      "Data columns (total 13 columns):\n",
      " #   Column              Non-Null Count  Dtype  \n",
      "---  ------              --------------  -----  \n",
      " 0   bookID              11123 non-null  int64  \n",
      " 1   title               11123 non-null  object \n",
      " 2   authors             11123 non-null  object \n",
      " 3   average_rating      11123 non-null  float64\n",
      " 4   isbn                11123 non-null  object \n",
      " 5   isbn13              11123 non-null  int64  \n",
      " 6   language_code       11123 non-null  object \n",
      " 7     num_pages         11123 non-null  int64  \n",
      " 8   ratings_count       11123 non-null  int64  \n",
      " 9   text_reviews_count  11123 non-null  int64  \n",
      " 10  publication_date    11123 non-null  object \n",
      " 11  publisher           11123 non-null  object \n",
      " 12  genre               11028 non-null  object \n",
      "dtypes: float64(1), int64(5), object(7)\n",
      "memory usage: 1.1+ MB\n"
     ]
    }
   ],
   "source": [
    "# проверка пропусков в данных и типов переменных признаков\n",
    "df.info()"
   ]
  },
  {
   "cell_type": "markdown",
   "id": "12f14fa3",
   "metadata": {},
   "source": [
    "Есть пропуски в признакe genre.\n",
    "\n",
    "Некоторые признаки требуют изменения типа данных:\n",
    "- language_code: object -> category\n",
    "- publication_date: object -> datetime\n",
    "- publisher: object -> category\n",
    "- genre: object -> category"
   ]
  },
  {
   "cell_type": "code",
   "execution_count": 5,
   "id": "2cabae88",
   "metadata": {},
   "outputs": [],
   "source": [
    "df.columns = df.columns.str.replace(' ', '')"
   ]
  },
  {
   "cell_type": "code",
   "execution_count": 6,
   "id": "fc0d7e1f",
   "metadata": {},
   "outputs": [
    {
     "data": {
      "text/plain": [
       "bookID                0.00\n",
       "title                 0.00\n",
       "authors               0.00\n",
       "average_rating        0.00\n",
       "isbn                  0.00\n",
       "isbn13                0.00\n",
       "language_code         0.00\n",
       "num_pages             0.00\n",
       "ratings_count         0.00\n",
       "text_reviews_count    0.00\n",
       "publication_date      0.00\n",
       "publisher             0.00\n",
       "genre                 0.85\n",
       "dtype: float64"
      ]
     },
     "execution_count": 6,
     "metadata": {},
     "output_type": "execute_result"
    }
   ],
   "source": [
    "# % пропусков\n",
    "round((df.isnull().sum()/df.shape[0])*100,2)"
   ]
  },
  {
   "cell_type": "markdown",
   "id": "fba28f00",
   "metadata": {},
   "source": [
    "Так как данных с пропусками мало (меньше 1%), то необходимо будет далее удалить эти строки из датасета"
   ]
  },
  {
   "cell_type": "code",
   "execution_count": 7,
   "id": "577d3c15",
   "metadata": {},
   "outputs": [
    {
     "data": {
      "text/html": [
       "<div>\n",
       "<style scoped>\n",
       "    .dataframe tbody tr th:only-of-type {\n",
       "        vertical-align: middle;\n",
       "    }\n",
       "\n",
       "    .dataframe tbody tr th {\n",
       "        vertical-align: top;\n",
       "    }\n",
       "\n",
       "    .dataframe thead th {\n",
       "        text-align: right;\n",
       "    }\n",
       "</style>\n",
       "<table border=\"1\" class=\"dataframe\">\n",
       "  <thead>\n",
       "    <tr style=\"text-align: right;\">\n",
       "      <th></th>\n",
       "      <th>bookID</th>\n",
       "      <th>average_rating</th>\n",
       "      <th>isbn13</th>\n",
       "      <th>num_pages</th>\n",
       "      <th>ratings_count</th>\n",
       "      <th>text_reviews_count</th>\n",
       "    </tr>\n",
       "  </thead>\n",
       "  <tbody>\n",
       "    <tr>\n",
       "      <th>count</th>\n",
       "      <td>11123.000000</td>\n",
       "      <td>11123.000000</td>\n",
       "      <td>1.112300e+04</td>\n",
       "      <td>11123.000000</td>\n",
       "      <td>1.112300e+04</td>\n",
       "      <td>11123.000000</td>\n",
       "    </tr>\n",
       "    <tr>\n",
       "      <th>mean</th>\n",
       "      <td>21310.856963</td>\n",
       "      <td>3.934075</td>\n",
       "      <td>9.759880e+12</td>\n",
       "      <td>336.405556</td>\n",
       "      <td>1.794285e+04</td>\n",
       "      <td>542.048099</td>\n",
       "    </tr>\n",
       "    <tr>\n",
       "      <th>std</th>\n",
       "      <td>13094.727252</td>\n",
       "      <td>0.350485</td>\n",
       "      <td>4.429758e+11</td>\n",
       "      <td>241.152626</td>\n",
       "      <td>1.124992e+05</td>\n",
       "      <td>2576.619589</td>\n",
       "    </tr>\n",
       "    <tr>\n",
       "      <th>min</th>\n",
       "      <td>1.000000</td>\n",
       "      <td>0.000000</td>\n",
       "      <td>8.987060e+09</td>\n",
       "      <td>0.000000</td>\n",
       "      <td>0.000000e+00</td>\n",
       "      <td>0.000000</td>\n",
       "    </tr>\n",
       "    <tr>\n",
       "      <th>25%</th>\n",
       "      <td>10277.500000</td>\n",
       "      <td>3.770000</td>\n",
       "      <td>9.780345e+12</td>\n",
       "      <td>192.000000</td>\n",
       "      <td>1.040000e+02</td>\n",
       "      <td>9.000000</td>\n",
       "    </tr>\n",
       "    <tr>\n",
       "      <th>50%</th>\n",
       "      <td>20287.000000</td>\n",
       "      <td>3.960000</td>\n",
       "      <td>9.780582e+12</td>\n",
       "      <td>299.000000</td>\n",
       "      <td>7.450000e+02</td>\n",
       "      <td>47.000000</td>\n",
       "    </tr>\n",
       "    <tr>\n",
       "      <th>75%</th>\n",
       "      <td>32104.500000</td>\n",
       "      <td>4.140000</td>\n",
       "      <td>9.780872e+12</td>\n",
       "      <td>416.000000</td>\n",
       "      <td>5.000500e+03</td>\n",
       "      <td>238.000000</td>\n",
       "    </tr>\n",
       "    <tr>\n",
       "      <th>max</th>\n",
       "      <td>45641.000000</td>\n",
       "      <td>5.000000</td>\n",
       "      <td>9.790008e+12</td>\n",
       "      <td>6576.000000</td>\n",
       "      <td>4.597666e+06</td>\n",
       "      <td>94265.000000</td>\n",
       "    </tr>\n",
       "  </tbody>\n",
       "</table>\n",
       "</div>"
      ],
      "text/plain": [
       "             bookID  average_rating        isbn13     num_pages  \\\n",
       "count  11123.000000    11123.000000  1.112300e+04  11123.000000   \n",
       "mean   21310.856963        3.934075  9.759880e+12    336.405556   \n",
       "std    13094.727252        0.350485  4.429758e+11    241.152626   \n",
       "min        1.000000        0.000000  8.987060e+09      0.000000   \n",
       "25%    10277.500000        3.770000  9.780345e+12    192.000000   \n",
       "50%    20287.000000        3.960000  9.780582e+12    299.000000   \n",
       "75%    32104.500000        4.140000  9.780872e+12    416.000000   \n",
       "max    45641.000000        5.000000  9.790008e+12   6576.000000   \n",
       "\n",
       "       ratings_count  text_reviews_count  \n",
       "count   1.112300e+04        11123.000000  \n",
       "mean    1.794285e+04          542.048099  \n",
       "std     1.124992e+05         2576.619589  \n",
       "min     0.000000e+00            0.000000  \n",
       "25%     1.040000e+02            9.000000  \n",
       "50%     7.450000e+02           47.000000  \n",
       "75%     5.000500e+03          238.000000  \n",
       "max     4.597666e+06        94265.000000  "
      ]
     },
     "execution_count": 7,
     "metadata": {},
     "output_type": "execute_result"
    }
   ],
   "source": [
    "# описательные статистики для числовых данных\n",
    "df.describe()"
   ]
  },
  {
   "cell_type": "markdown",
   "id": "5067b076",
   "metadata": {},
   "source": [
    "- Рейтинг (таргет) оценивается в диапазоне от 0 до 5.\n",
    "- Количество страниц в книге изменяется в диапазоне от 6576 до 0. Предлагается удалить книги, содержащие 0 страниц.\n",
    "- Для количества страниц 75% данных лежит в диапазоне до 416 страниц. При этом максимальное значение = 6576 - необходимо проверить, есть ли выбросы.\n",
    "- Предлагается удалить данные с нулевым рейтингом (и следовательно нулевым количеством оценок), чтобы не искажать результаты дальнейшей модели (так как мы нацелены найти именно предсказание конкретного рейтинга). "
   ]
  },
  {
   "cell_type": "code",
   "execution_count": 8,
   "id": "e8dbb9cb",
   "metadata": {},
   "outputs": [
    {
     "data": {
      "text/html": [
       "<div>\n",
       "<style scoped>\n",
       "    .dataframe tbody tr th:only-of-type {\n",
       "        vertical-align: middle;\n",
       "    }\n",
       "\n",
       "    .dataframe tbody tr th {\n",
       "        vertical-align: top;\n",
       "    }\n",
       "\n",
       "    .dataframe thead th {\n",
       "        text-align: right;\n",
       "    }\n",
       "</style>\n",
       "<table border=\"1\" class=\"dataframe\">\n",
       "  <thead>\n",
       "    <tr style=\"text-align: right;\">\n",
       "      <th></th>\n",
       "      <th>title</th>\n",
       "      <th>authors</th>\n",
       "      <th>isbn</th>\n",
       "      <th>language_code</th>\n",
       "      <th>publication_date</th>\n",
       "      <th>publisher</th>\n",
       "      <th>genre</th>\n",
       "    </tr>\n",
       "  </thead>\n",
       "  <tbody>\n",
       "    <tr>\n",
       "      <th>count</th>\n",
       "      <td>11123</td>\n",
       "      <td>11123</td>\n",
       "      <td>11123</td>\n",
       "      <td>11123</td>\n",
       "      <td>11123</td>\n",
       "      <td>11123</td>\n",
       "      <td>11028</td>\n",
       "    </tr>\n",
       "    <tr>\n",
       "      <th>unique</th>\n",
       "      <td>10348</td>\n",
       "      <td>6639</td>\n",
       "      <td>11123</td>\n",
       "      <td>27</td>\n",
       "      <td>3679</td>\n",
       "      <td>2290</td>\n",
       "      <td>218</td>\n",
       "    </tr>\n",
       "    <tr>\n",
       "      <th>top</th>\n",
       "      <td>The Iliad</td>\n",
       "      <td>Stephen King</td>\n",
       "      <td>0439785960</td>\n",
       "      <td>eng</td>\n",
       "      <td>10/1/2005</td>\n",
       "      <td>Vintage</td>\n",
       "      <td>Fiction</td>\n",
       "    </tr>\n",
       "    <tr>\n",
       "      <th>freq</th>\n",
       "      <td>9</td>\n",
       "      <td>40</td>\n",
       "      <td>1</td>\n",
       "      <td>8908</td>\n",
       "      <td>56</td>\n",
       "      <td>318</td>\n",
       "      <td>1856</td>\n",
       "    </tr>\n",
       "  </tbody>\n",
       "</table>\n",
       "</div>"
      ],
      "text/plain": [
       "            title       authors        isbn language_code publication_date  \\\n",
       "count       11123         11123       11123         11123            11123   \n",
       "unique      10348          6639       11123            27             3679   \n",
       "top     The Iliad  Stephen King  0439785960           eng        10/1/2005   \n",
       "freq            9            40           1          8908               56   \n",
       "\n",
       "       publisher    genre  \n",
       "count      11123    11028  \n",
       "unique      2290      218  \n",
       "top      Vintage  Fiction  \n",
       "freq         318     1856  "
      ]
     },
     "execution_count": 8,
     "metadata": {},
     "output_type": "execute_result"
    }
   ],
   "source": [
    "# описательные данных типа object\n",
    "df.describe(include=['object'])"
   ]
  },
  {
   "cell_type": "markdown",
   "id": "041af830",
   "metadata": {},
   "source": [
    "- Несмотря на то, что уникальных заголовков меньше, чем всего объектов, это может быть ок (одна книга выпущенна в разное время разными издательствами)\n",
    "- Количество уникальных языков = 27, наимболее популярный - английский\n",
    "- Количество никальных издательств = 2290\n",
    "- Количество жанров = 218"
   ]
  },
  {
   "cell_type": "code",
   "execution_count": 9,
   "id": "927a8e4e",
   "metadata": {},
   "outputs": [
    {
     "data": {
      "text/plain": [
       "(0, 13)"
      ]
     },
     "execution_count": 9,
     "metadata": {},
     "output_type": "execute_result"
    }
   ],
   "source": [
    "# поиск дубликатов, совпадающих по всем столбцам\n",
    "duplicates = df[df.duplicated(keep=False)]\n",
    "duplicates.shape"
   ]
  },
  {
   "cell_type": "markdown",
   "id": "12f1a22f",
   "metadata": {},
   "source": [
    "Датасет не содержит дубликатов."
   ]
  },
  {
   "cell_type": "code",
   "execution_count": 10,
   "id": "92f542c9",
   "metadata": {},
   "outputs": [
    {
     "data": {
      "image/png": "[encoded data removed]",
      "text/plain": [
       "<Figure size 1500x600 with 1 Axes>"
      ]
     },
     "metadata": {},
     "output_type": "display_data"
    }
   ],
   "source": [
    "# поиск выбросов num_pages\n",
    "plt.figure(figsize=(15, 6))\n",
    "sns.boxplot(df.num_pages, palette='rocket')\n",
    "plt.title('Rating boxplot', fontsize=16)\n",
    "\n",
    "plt.show()"
   ]
  },
  {
   "cell_type": "markdown",
   "id": "305df501",
   "metadata": {},
   "source": [
    "По boxplot определяем, что верхняя граница статистически значимой выборки = 900 страниц."
   ]
  },
  {
   "cell_type": "code",
   "execution_count": 11,
   "id": "01a82995",
   "metadata": {},
   "outputs": [],
   "source": [
    "outliers = df[(df['num_pages'] > 900)]"
   ]
  },
  {
   "cell_type": "code",
   "execution_count": 12,
   "id": "380bd252",
   "metadata": {},
   "outputs": [
    {
     "name": "stdout",
     "output_type": "stream",
     "text": [
      "Процент данных с выбросами = 2.64 %\n"
     ]
    }
   ],
   "source": [
    "# Проанализируем какую часть такие данные составляют от исходного датасета\n",
    "print(f'Процент данных с выбросами = {round((outliers.shape[0]/df.shape[0])*100,2)} %')"
   ]
  },
  {
   "cell_type": "markdown",
   "id": "c3069177",
   "metadata": {},
   "source": [
    "Так как процент выбросов мал, далее удалим эти данные."
   ]
  },
  {
   "cell_type": "markdown",
   "id": "e1960253",
   "metadata": {},
   "source": [
    "## Преобразование данных"
   ]
  },
  {
   "cell_type": "markdown",
   "id": "0b1c09e6",
   "metadata": {},
   "source": [
    "- Изменение типов данных для некоторых признаков\n",
    "- Удаление признаков: isbn, isbn13\n",
    "- Удаление данных с пропуском в 'genre'\n",
    "- Удаление данных с num_pages = 0\n",
    "- Удаление данных с num_pages > 900\n",
    "- Publication_date оставить только год\n",
    "- Добавление нового признака с бинами на основе года публикации"
   ]
  },
  {
   "cell_type": "code",
   "execution_count": 13,
   "id": "f657dcaf",
   "metadata": {},
   "outputs": [
    {
     "data": {
      "text/plain": [
       "{'change_type_century': {'century': 'str'},\n",
       " 'change_type_columns': {'authors': 'category',\n",
       "  'language_code': 'category',\n",
       "  'publisher': 'category',\n",
       "  'genre': 'category',\n",
       "  'publication_year': 'int64',\n",
       "  'century': 'category'},\n",
       " 'date_transform': {'publication_date': 'publication_year'},\n",
       " 'copy': {'publication_year': 'century'},\n",
       " 'map_bins_columns': {'century': [[1950, 2000], ['20', '20.5', '21']]},\n",
       " 'drop_columns': ['bookID',\n",
       "  'isbn',\n",
       "  'isbn13',\n",
       "  'title',\n",
       "  'publication_date',\n",
       "  'text_reviews_count'],\n",
       " 'train_path': '../data/processed/books_processed.csv',\n",
       " 'unique_values_path': '../data/processed/unique_values.json',\n",
       " 'test_size': 0.25,\n",
       " 'target_column': 'average_rating',\n",
       " 'random_state': 10,\n",
       " 'train_path_proc': '../data/processed/train.csv',\n",
       " 'test_path_proc': '../data/processed/test.csv',\n",
       " 'raw_data_path': '../data/raw/books.csv'}"
      ]
     },
     "execution_count": 13,
     "metadata": {},
     "output_type": "execute_result"
    }
   ],
   "source": [
    "# подгрузка параметров препроцессинга данных\n",
    "config_path = '../config/params.yml'\n",
    "config = yaml.load(open(config_path), Loader=yaml.FullLoader)\n",
    "\n",
    "preproc = config['preprocessing']\n",
    "preproc"
   ]
  },
  {
   "cell_type": "markdown",
   "id": "f24fd7cc",
   "metadata": {},
   "source": [
    "### Удаление объектов"
   ]
  },
  {
   "cell_type": "code",
   "execution_count": 14,
   "id": "a34849bc",
   "metadata": {},
   "outputs": [
    {
     "data": {
      "text/plain": [
       "(11028, 13)"
      ]
     },
     "execution_count": 14,
     "metadata": {},
     "output_type": "execute_result"
    }
   ],
   "source": [
    "# удаление данных с пропусками\n",
    "df = df.dropna()\n",
    "df.shape"
   ]
  },
  {
   "cell_type": "code",
   "execution_count": 15,
   "id": "c1d6fe29",
   "metadata": {},
   "outputs": [
    {
     "data": {
      "text/plain": [
       "(10957, 13)"
      ]
     },
     "execution_count": 15,
     "metadata": {},
     "output_type": "execute_result"
    }
   ],
   "source": [
    "# удаление данных, где num_pages = 0\n",
    "df = df[df.num_pages != 0]\n",
    "df.shape"
   ]
  },
  {
   "cell_type": "code",
   "execution_count": 16,
   "id": "f86ed34f",
   "metadata": {},
   "outputs": [
    {
     "data": {
      "text/plain": [
       "(10935, 13)"
      ]
     },
     "execution_count": 16,
     "metadata": {},
     "output_type": "execute_result"
    }
   ],
   "source": [
    "# удаление данных, где average_rating = 0\n",
    "df = df[df.average_rating != 0]\n",
    "df.shape"
   ]
  },
  {
   "cell_type": "code",
   "execution_count": 17,
   "id": "6a64f3d9",
   "metadata": {},
   "outputs": [
    {
     "data": {
      "text/plain": [
       "(10885, 13)"
      ]
     },
     "execution_count": 17,
     "metadata": {},
     "output_type": "execute_result"
    }
   ],
   "source": [
    "# удаление данных, где ratings_count = 0\n",
    "df = df[df.ratings_count != 0]\n",
    "df.shape"
   ]
  },
  {
   "cell_type": "code",
   "execution_count": 18,
   "id": "1c6b7e83",
   "metadata": {},
   "outputs": [
    {
     "data": {
      "text/plain": [
       "(10598, 13)"
      ]
     },
     "execution_count": 18,
     "metadata": {},
     "output_type": "execute_result"
    }
   ],
   "source": [
    "# удаление данных, где num_pages > 900\n",
    "df = df[df.num_pages < 900]\n",
    "df.shape"
   ]
  },
  {
   "cell_type": "code",
   "execution_count": 19,
   "id": "07c46e09",
   "metadata": {},
   "outputs": [
    {
     "data": {
      "text/plain": [
       "(9953, 13)"
      ]
     },
     "execution_count": 19,
     "metadata": {},
     "output_type": "execute_result"
    }
   ],
   "source": [
    "# удаление данных, где ratings_count > 50000\n",
    "df = df[df.ratings_count < 50000]\n",
    "df.shape"
   ]
  },
  {
   "cell_type": "code",
   "execution_count": 20,
   "id": "5793194a",
   "metadata": {},
   "outputs": [],
   "source": [
    "df.to_csv(preproc['raw_data_path'], index=False)"
   ]
  },
  {
   "cell_type": "markdown",
   "id": "6dcdeb7f",
   "metadata": {},
   "source": [
    "### Преобразование признака publication_date "
   ]
  },
  {
   "cell_type": "code",
   "execution_count": 21,
   "id": "41c8678b",
   "metadata": {},
   "outputs": [],
   "source": [
    "# оставляем от даты публикации только год\n",
    "df['publication_year'] = df.publication_date.str[-4:]"
   ]
  },
  {
   "cell_type": "code",
   "execution_count": 22,
   "id": "52354ea8",
   "metadata": {},
   "outputs": [],
   "source": [
    "df['century'] = df['publication_year'].astype(int)"
   ]
  },
  {
   "cell_type": "code",
   "execution_count": 23,
   "id": "a23eb2d4",
   "metadata": {},
   "outputs": [
    {
     "data": {
      "text/html": [
       "<div>\n",
       "<style scoped>\n",
       "    .dataframe tbody tr th:only-of-type {\n",
       "        vertical-align: middle;\n",
       "    }\n",
       "\n",
       "    .dataframe tbody tr th {\n",
       "        vertical-align: top;\n",
       "    }\n",
       "\n",
       "    .dataframe thead th {\n",
       "        text-align: right;\n",
       "    }\n",
       "</style>\n",
       "<table border=\"1\" class=\"dataframe\">\n",
       "  <thead>\n",
       "    <tr style=\"text-align: right;\">\n",
       "      <th></th>\n",
       "      <th>bookID</th>\n",
       "      <th>average_rating</th>\n",
       "      <th>isbn13</th>\n",
       "      <th>num_pages</th>\n",
       "      <th>ratings_count</th>\n",
       "      <th>text_reviews_count</th>\n",
       "      <th>century</th>\n",
       "    </tr>\n",
       "  </thead>\n",
       "  <tbody>\n",
       "    <tr>\n",
       "      <th>count</th>\n",
       "      <td>9953.000000</td>\n",
       "      <td>9953.000000</td>\n",
       "      <td>9.953000e+03</td>\n",
       "      <td>9953.000000</td>\n",
       "      <td>9953.000000</td>\n",
       "      <td>9953.000000</td>\n",
       "      <td>9953.000000</td>\n",
       "    </tr>\n",
       "    <tr>\n",
       "      <th>mean</th>\n",
       "      <td>21698.983221</td>\n",
       "      <td>3.933023</td>\n",
       "      <td>9.760288e+12</td>\n",
       "      <td>312.438863</td>\n",
       "      <td>4063.816538</td>\n",
       "      <td>190.329147</td>\n",
       "      <td>2000.061389</td>\n",
       "    </tr>\n",
       "    <tr>\n",
       "      <th>std</th>\n",
       "      <td>13051.237885</td>\n",
       "      <td>0.293214</td>\n",
       "      <td>4.384011e+11</td>\n",
       "      <td>173.157510</td>\n",
       "      <td>8138.895175</td>\n",
       "      <td>391.991691</td>\n",
       "      <td>8.353039</td>\n",
       "    </tr>\n",
       "    <tr>\n",
       "      <th>min</th>\n",
       "      <td>4.000000</td>\n",
       "      <td>1.000000</td>\n",
       "      <td>8.987060e+09</td>\n",
       "      <td>1.000000</td>\n",
       "      <td>1.000000</td>\n",
       "      <td>0.000000</td>\n",
       "      <td>1900.000000</td>\n",
       "    </tr>\n",
       "    <tr>\n",
       "      <th>25%</th>\n",
       "      <td>10814.000000</td>\n",
       "      <td>3.770000</td>\n",
       "      <td>9.780345e+12</td>\n",
       "      <td>192.000000</td>\n",
       "      <td>99.000000</td>\n",
       "      <td>9.000000</td>\n",
       "      <td>1998.000000</td>\n",
       "    </tr>\n",
       "    <tr>\n",
       "      <th>50%</th>\n",
       "      <td>21276.000000</td>\n",
       "      <td>3.950000</td>\n",
       "      <td>9.780618e+12</td>\n",
       "      <td>288.000000</td>\n",
       "      <td>622.000000</td>\n",
       "      <td>41.000000</td>\n",
       "      <td>2003.000000</td>\n",
       "    </tr>\n",
       "    <tr>\n",
       "      <th>75%</th>\n",
       "      <td>32414.000000</td>\n",
       "      <td>4.120000</td>\n",
       "      <td>9.780880e+12</td>\n",
       "      <td>400.000000</td>\n",
       "      <td>3534.000000</td>\n",
       "      <td>178.000000</td>\n",
       "      <td>2005.000000</td>\n",
       "    </tr>\n",
       "    <tr>\n",
       "      <th>max</th>\n",
       "      <td>45641.000000</td>\n",
       "      <td>5.000000</td>\n",
       "      <td>9.789999e+12</td>\n",
       "      <td>898.000000</td>\n",
       "      <td>49975.000000</td>\n",
       "      <td>5344.000000</td>\n",
       "      <td>2020.000000</td>\n",
       "    </tr>\n",
       "  </tbody>\n",
       "</table>\n",
       "</div>"
      ],
      "text/plain": [
       "             bookID  average_rating        isbn13    num_pages  ratings_count  \\\n",
       "count   9953.000000     9953.000000  9.953000e+03  9953.000000    9953.000000   \n",
       "mean   21698.983221        3.933023  9.760288e+12   312.438863    4063.816538   \n",
       "std    13051.237885        0.293214  4.384011e+11   173.157510    8138.895175   \n",
       "min        4.000000        1.000000  8.987060e+09     1.000000       1.000000   \n",
       "25%    10814.000000        3.770000  9.780345e+12   192.000000      99.000000   \n",
       "50%    21276.000000        3.950000  9.780618e+12   288.000000     622.000000   \n",
       "75%    32414.000000        4.120000  9.780880e+12   400.000000    3534.000000   \n",
       "max    45641.000000        5.000000  9.789999e+12   898.000000   49975.000000   \n",
       "\n",
       "       text_reviews_count      century  \n",
       "count         9953.000000  9953.000000  \n",
       "mean           190.329147  2000.061389  \n",
       "std            391.991691     8.353039  \n",
       "min              0.000000  1900.000000  \n",
       "25%              9.000000  1998.000000  \n",
       "50%             41.000000  2003.000000  \n",
       "75%            178.000000  2005.000000  \n",
       "max           5344.000000  2020.000000  "
      ]
     },
     "execution_count": 23,
     "metadata": {},
     "output_type": "execute_result"
    }
   ],
   "source": [
    "df.describe()"
   ]
  },
  {
   "cell_type": "markdown",
   "id": "cc2f7e31",
   "metadata": {},
   "source": [
    "### Создание бинов на основе года публикации"
   ]
  },
  {
   "cell_type": "code",
   "execution_count": 24,
   "id": "a84f6417",
   "metadata": {},
   "outputs": [
    {
     "data": {
      "text/html": [
       "<div>\n",
       "<style scoped>\n",
       "    .dataframe tbody tr th:only-of-type {\n",
       "        vertical-align: middle;\n",
       "    }\n",
       "\n",
       "    .dataframe tbody tr th {\n",
       "        vertical-align: top;\n",
       "    }\n",
       "\n",
       "    .dataframe thead th {\n",
       "        text-align: right;\n",
       "    }\n",
       "</style>\n",
       "<table border=\"1\" class=\"dataframe\">\n",
       "  <thead>\n",
       "    <tr style=\"text-align: right;\">\n",
       "      <th></th>\n",
       "      <th>bookID</th>\n",
       "      <th>title</th>\n",
       "      <th>authors</th>\n",
       "      <th>average_rating</th>\n",
       "      <th>isbn</th>\n",
       "      <th>isbn13</th>\n",
       "      <th>language_code</th>\n",
       "      <th>num_pages</th>\n",
       "      <th>ratings_count</th>\n",
       "      <th>text_reviews_count</th>\n",
       "      <th>publication_date</th>\n",
       "      <th>publisher</th>\n",
       "      <th>genre</th>\n",
       "      <th>publication_year</th>\n",
       "      <th>century</th>\n",
       "    </tr>\n",
       "  </thead>\n",
       "  <tbody>\n",
       "    <tr>\n",
       "      <th>2</th>\n",
       "      <td>4</td>\n",
       "      <td>Harry Potter and the Chamber of Secrets (Harry...</td>\n",
       "      <td>J.K. Rowling</td>\n",
       "      <td>4.42</td>\n",
       "      <td>0439554896</td>\n",
       "      <td>9780439554893</td>\n",
       "      <td>eng</td>\n",
       "      <td>352</td>\n",
       "      <td>6333</td>\n",
       "      <td>244</td>\n",
       "      <td>11/1/2003</td>\n",
       "      <td>Scholastic</td>\n",
       "      <td>Fantasy</td>\n",
       "      <td>2003</td>\n",
       "      <td>21</td>\n",
       "    </tr>\n",
       "    <tr>\n",
       "      <th>5</th>\n",
       "      <td>9</td>\n",
       "      <td>Unauthorized Harry Potter Book Seven News: \"Ha...</td>\n",
       "      <td>W. Frederick Zimmerman</td>\n",
       "      <td>3.74</td>\n",
       "      <td>0976540606</td>\n",
       "      <td>9780976540601</td>\n",
       "      <td>en-US</td>\n",
       "      <td>152</td>\n",
       "      <td>19</td>\n",
       "      <td>1</td>\n",
       "      <td>4/26/2005</td>\n",
       "      <td>Nimble Books</td>\n",
       "      <td>Fiction</td>\n",
       "      <td>2005</td>\n",
       "      <td>21</td>\n",
       "    </tr>\n",
       "    <tr>\n",
       "      <th>7</th>\n",
       "      <td>12</td>\n",
       "      <td>The Ultimate Hitchhiker's Guide: Five Complete...</td>\n",
       "      <td>Douglas Adams</td>\n",
       "      <td>4.38</td>\n",
       "      <td>0517226952</td>\n",
       "      <td>9780517226957</td>\n",
       "      <td>eng</td>\n",
       "      <td>815</td>\n",
       "      <td>3628</td>\n",
       "      <td>254</td>\n",
       "      <td>11/1/2005</td>\n",
       "      <td>Gramercy Books</td>\n",
       "      <td>Science Fiction</td>\n",
       "      <td>2005</td>\n",
       "      <td>21</td>\n",
       "    </tr>\n",
       "    <tr>\n",
       "      <th>9</th>\n",
       "      <td>14</td>\n",
       "      <td>The Hitchhiker's Guide to the Galaxy (Hitchhik...</td>\n",
       "      <td>Douglas Adams</td>\n",
       "      <td>4.22</td>\n",
       "      <td>1400052920</td>\n",
       "      <td>9781400052929</td>\n",
       "      <td>eng</td>\n",
       "      <td>215</td>\n",
       "      <td>4930</td>\n",
       "      <td>460</td>\n",
       "      <td>8/3/2004</td>\n",
       "      <td>Crown</td>\n",
       "      <td>Science Fiction</td>\n",
       "      <td>2004</td>\n",
       "      <td>21</td>\n",
       "    </tr>\n",
       "    <tr>\n",
       "      <th>10</th>\n",
       "      <td>16</td>\n",
       "      <td>The Hitchhiker's Guide to the Galaxy (Hitchhik...</td>\n",
       "      <td>Douglas Adams/Stephen Fry</td>\n",
       "      <td>4.22</td>\n",
       "      <td>0739322206</td>\n",
       "      <td>9780739322208</td>\n",
       "      <td>eng</td>\n",
       "      <td>6</td>\n",
       "      <td>1266</td>\n",
       "      <td>253</td>\n",
       "      <td>3/23/2005</td>\n",
       "      <td>Random House Audio</td>\n",
       "      <td>Science Fiction</td>\n",
       "      <td>2005</td>\n",
       "      <td>21</td>\n",
       "    </tr>\n",
       "    <tr>\n",
       "      <th>...</th>\n",
       "      <td>...</td>\n",
       "      <td>...</td>\n",
       "      <td>...</td>\n",
       "      <td>...</td>\n",
       "      <td>...</td>\n",
       "      <td>...</td>\n",
       "      <td>...</td>\n",
       "      <td>...</td>\n",
       "      <td>...</td>\n",
       "      <td>...</td>\n",
       "      <td>...</td>\n",
       "      <td>...</td>\n",
       "      <td>...</td>\n",
       "      <td>...</td>\n",
       "      <td>...</td>\n",
       "    </tr>\n",
       "    <tr>\n",
       "      <th>11118</th>\n",
       "      <td>45631</td>\n",
       "      <td>Expelled from Eden: A William T. Vollmann Reader</td>\n",
       "      <td>William T. Vollmann/Larry McCaffery/Michael He...</td>\n",
       "      <td>4.06</td>\n",
       "      <td>1560254416</td>\n",
       "      <td>9781560254416</td>\n",
       "      <td>eng</td>\n",
       "      <td>512</td>\n",
       "      <td>156</td>\n",
       "      <td>20</td>\n",
       "      <td>12/21/2004</td>\n",
       "      <td>Da Capo Press</td>\n",
       "      <td>Fantasy</td>\n",
       "      <td>2004</td>\n",
       "      <td>21</td>\n",
       "    </tr>\n",
       "    <tr>\n",
       "      <th>11119</th>\n",
       "      <td>45633</td>\n",
       "      <td>You Bright and Risen Angels</td>\n",
       "      <td>William T. Vollmann</td>\n",
       "      <td>4.08</td>\n",
       "      <td>0140110879</td>\n",
       "      <td>9780140110876</td>\n",
       "      <td>eng</td>\n",
       "      <td>635</td>\n",
       "      <td>783</td>\n",
       "      <td>56</td>\n",
       "      <td>12/1/1988</td>\n",
       "      <td>Penguin Books</td>\n",
       "      <td>Fantasy</td>\n",
       "      <td>1988</td>\n",
       "      <td>20,5</td>\n",
       "    </tr>\n",
       "    <tr>\n",
       "      <th>11120</th>\n",
       "      <td>45634</td>\n",
       "      <td>The Ice-Shirt (Seven Dreams #1)</td>\n",
       "      <td>William T. Vollmann</td>\n",
       "      <td>3.96</td>\n",
       "      <td>0140131965</td>\n",
       "      <td>9780140131963</td>\n",
       "      <td>eng</td>\n",
       "      <td>415</td>\n",
       "      <td>820</td>\n",
       "      <td>95</td>\n",
       "      <td>8/1/1993</td>\n",
       "      <td>Penguin Books</td>\n",
       "      <td>Fantasy</td>\n",
       "      <td>1993</td>\n",
       "      <td>20,5</td>\n",
       "    </tr>\n",
       "    <tr>\n",
       "      <th>11121</th>\n",
       "      <td>45639</td>\n",
       "      <td>Poor People</td>\n",
       "      <td>William T. Vollmann</td>\n",
       "      <td>3.72</td>\n",
       "      <td>0060878827</td>\n",
       "      <td>9780060878825</td>\n",
       "      <td>eng</td>\n",
       "      <td>434</td>\n",
       "      <td>769</td>\n",
       "      <td>139</td>\n",
       "      <td>2/27/2007</td>\n",
       "      <td>Ecco</td>\n",
       "      <td>Fiction</td>\n",
       "      <td>2007</td>\n",
       "      <td>21</td>\n",
       "    </tr>\n",
       "    <tr>\n",
       "      <th>11122</th>\n",
       "      <td>45641</td>\n",
       "      <td>Las aventuras de Tom Sawyer</td>\n",
       "      <td>Mark Twain</td>\n",
       "      <td>3.91</td>\n",
       "      <td>8497646983</td>\n",
       "      <td>9788497646987</td>\n",
       "      <td>spa</td>\n",
       "      <td>272</td>\n",
       "      <td>113</td>\n",
       "      <td>12</td>\n",
       "      <td>5/28/2006</td>\n",
       "      <td>Edimat Libros</td>\n",
       "      <td>Fiction</td>\n",
       "      <td>2006</td>\n",
       "      <td>21</td>\n",
       "    </tr>\n",
       "  </tbody>\n",
       "</table>\n",
       "<p>9953 rows × 15 columns</p>\n",
       "</div>"
      ],
      "text/plain": [
       "       bookID                                              title  \\\n",
       "2           4  Harry Potter and the Chamber of Secrets (Harry...   \n",
       "5           9  Unauthorized Harry Potter Book Seven News: \"Ha...   \n",
       "7          12  The Ultimate Hitchhiker's Guide: Five Complete...   \n",
       "9          14  The Hitchhiker's Guide to the Galaxy (Hitchhik...   \n",
       "10         16  The Hitchhiker's Guide to the Galaxy (Hitchhik...   \n",
       "...       ...                                                ...   \n",
       "11118   45631   Expelled from Eden: A William T. Vollmann Reader   \n",
       "11119   45633                        You Bright and Risen Angels   \n",
       "11120   45634                    The Ice-Shirt (Seven Dreams #1)   \n",
       "11121   45639                                        Poor People   \n",
       "11122   45641                        Las aventuras de Tom Sawyer   \n",
       "\n",
       "                                                 authors  average_rating  \\\n",
       "2                                           J.K. Rowling            4.42   \n",
       "5                                 W. Frederick Zimmerman            3.74   \n",
       "7                                          Douglas Adams            4.38   \n",
       "9                                          Douglas Adams            4.22   \n",
       "10                             Douglas Adams/Stephen Fry            4.22   \n",
       "...                                                  ...             ...   \n",
       "11118  William T. Vollmann/Larry McCaffery/Michael He...            4.06   \n",
       "11119                                William T. Vollmann            4.08   \n",
       "11120                                William T. Vollmann            3.96   \n",
       "11121                                William T. Vollmann            3.72   \n",
       "11122                                         Mark Twain            3.91   \n",
       "\n",
       "             isbn         isbn13 language_code  num_pages  ratings_count  \\\n",
       "2      0439554896  9780439554893           eng        352           6333   \n",
       "5      0976540606  9780976540601         en-US        152             19   \n",
       "7      0517226952  9780517226957           eng        815           3628   \n",
       "9      1400052920  9781400052929           eng        215           4930   \n",
       "10     0739322206  9780739322208           eng          6           1266   \n",
       "...           ...            ...           ...        ...            ...   \n",
       "11118  1560254416  9781560254416           eng        512            156   \n",
       "11119  0140110879  9780140110876           eng        635            783   \n",
       "11120  0140131965  9780140131963           eng        415            820   \n",
       "11121  0060878827  9780060878825           eng        434            769   \n",
       "11122  8497646983  9788497646987           spa        272            113   \n",
       "\n",
       "       text_reviews_count publication_date           publisher  \\\n",
       "2                     244        11/1/2003          Scholastic   \n",
       "5                       1        4/26/2005        Nimble Books   \n",
       "7                     254        11/1/2005      Gramercy Books   \n",
       "9                     460         8/3/2004               Crown   \n",
       "10                    253        3/23/2005  Random House Audio   \n",
       "...                   ...              ...                 ...   \n",
       "11118                  20       12/21/2004       Da Capo Press   \n",
       "11119                  56        12/1/1988       Penguin Books   \n",
       "11120                  95         8/1/1993       Penguin Books   \n",
       "11121                 139        2/27/2007                Ecco   \n",
       "11122                  12        5/28/2006       Edimat Libros   \n",
       "\n",
       "                 genre publication_year century  \n",
       "2              Fantasy             2003      21  \n",
       "5              Fiction             2005      21  \n",
       "7      Science Fiction             2005      21  \n",
       "9      Science Fiction             2004      21  \n",
       "10     Science Fiction             2005      21  \n",
       "...                ...              ...     ...  \n",
       "11118          Fantasy             2004      21  \n",
       "11119          Fantasy             1988    20,5  \n",
       "11120          Fantasy             1993    20,5  \n",
       "11121          Fiction             2007      21  \n",
       "11122          Fiction             2006      21  \n",
       "\n",
       "[9953 rows x 15 columns]"
      ]
     },
     "execution_count": 24,
     "metadata": {},
     "output_type": "execute_result"
    }
   ],
   "source": [
    "# создание бинов\n",
    "bins = [1899, 1950, 2000, 2021]\n",
    "century = ['20', '20,5', '21']\n",
    "df['century'] = pd.cut(df['century'], bins, labels=century)\n",
    "df"
   ]
  },
  {
   "cell_type": "code",
   "execution_count": 25,
   "id": "7776a12d",
   "metadata": {},
   "outputs": [
    {
     "name": "stdout",
     "output_type": "stream",
     "text": [
      "<class 'pandas.core.frame.DataFrame'>\n",
      "Int64Index: 9953 entries, 2 to 11122\n",
      "Data columns (total 15 columns):\n",
      " #   Column              Non-Null Count  Dtype   \n",
      "---  ------              --------------  -----   \n",
      " 0   bookID              9953 non-null   int64   \n",
      " 1   title               9953 non-null   object  \n",
      " 2   authors             9953 non-null   object  \n",
      " 3   average_rating      9953 non-null   float64 \n",
      " 4   isbn                9953 non-null   object  \n",
      " 5   isbn13              9953 non-null   int64   \n",
      " 6   language_code       9953 non-null   object  \n",
      " 7   num_pages           9953 non-null   int64   \n",
      " 8   ratings_count       9953 non-null   int64   \n",
      " 9   text_reviews_count  9953 non-null   int64   \n",
      " 10  publication_date    9953 non-null   object  \n",
      " 11  publisher           9953 non-null   object  \n",
      " 12  genre               9953 non-null   object  \n",
      " 13  publication_year    9953 non-null   object  \n",
      " 14  century             9953 non-null   category\n",
      "dtypes: category(1), float64(1), int64(5), object(8)\n",
      "memory usage: 1.1+ MB\n"
     ]
    }
   ],
   "source": [
    "df.info()"
   ]
  },
  {
   "cell_type": "markdown",
   "id": "aa135d49",
   "metadata": {},
   "source": [
    "### Изменение типов данных "
   ]
  },
  {
   "cell_type": "code",
   "execution_count": 26,
   "id": "f7d5b3c4",
   "metadata": {},
   "outputs": [],
   "source": [
    "def transform_types(data: pd.DataFrame, change_type_columns: dict) -> pd.DataFrame:\n",
    "    \"\"\"\n",
    "    Изменение типа данных для признаков\n",
    "    param data: датасет\n",
    "    param change_type_columns: словарь с признаками и типами данных\n",
    "    \"\"\"\n",
    "    \n",
    "    return data.astype(change_type_columns, errors=\"ignore\")\n",
    "\n"
   ]
  },
  {
   "cell_type": "code",
   "execution_count": 27,
   "id": "5a0f106c",
   "metadata": {},
   "outputs": [
    {
     "data": {
      "text/plain": [
       "{'authors': 'category',\n",
       " 'language_code': 'category',\n",
       " 'publisher': 'category',\n",
       " 'genre': 'category',\n",
       " 'publication_year': 'int64',\n",
       " 'century': 'category'}"
      ]
     },
     "execution_count": 27,
     "metadata": {},
     "output_type": "execute_result"
    }
   ],
   "source": [
    "change_type_columns = preproc['change_type_columns']\n",
    "change_type_columns"
   ]
  },
  {
   "cell_type": "code",
   "execution_count": 28,
   "id": "37e00cde",
   "metadata": {},
   "outputs": [
    {
     "name": "stdout",
     "output_type": "stream",
     "text": [
      "<class 'pandas.core.frame.DataFrame'>\n",
      "Int64Index: 9953 entries, 2 to 11122\n",
      "Data columns (total 15 columns):\n",
      " #   Column              Non-Null Count  Dtype   \n",
      "---  ------              --------------  -----   \n",
      " 0   bookID              9953 non-null   int64   \n",
      " 1   title               9953 non-null   object  \n",
      " 2   authors             9953 non-null   category\n",
      " 3   average_rating      9953 non-null   float64 \n",
      " 4   isbn                9953 non-null   object  \n",
      " 5   isbn13              9953 non-null   int64   \n",
      " 6   language_code       9953 non-null   category\n",
      " 7   num_pages           9953 non-null   int64   \n",
      " 8   ratings_count       9953 non-null   int64   \n",
      " 9   text_reviews_count  9953 non-null   int64   \n",
      " 10  publication_date    9953 non-null   object  \n",
      " 11  publisher           9953 non-null   category\n",
      " 12  genre               9953 non-null   category\n",
      " 13  publication_year    9953 non-null   int64   \n",
      " 14  century             9953 non-null   category\n",
      "dtypes: category(5), float64(1), int64(6), object(3)\n",
      "memory usage: 1.2+ MB\n"
     ]
    }
   ],
   "source": [
    "change_type_columns = preproc['change_type_columns']\n",
    "df = transform_types(data=df, change_type_columns=change_type_columns)\n",
    "df.info()"
   ]
  },
  {
   "cell_type": "markdown",
   "id": "ec604ce3",
   "metadata": {},
   "source": [
    "# EDA"
   ]
  },
  {
   "cell_type": "markdown",
   "id": "8c30e6c5",
   "metadata": {},
   "source": [
    "## Распределение целевой переменной - average_rating "
   ]
  },
  {
   "cell_type": "code",
   "execution_count": 29,
   "id": "21315353",
   "metadata": {},
   "outputs": [
    {
     "data": {
      "image/png": "[encoded data removed]",
      "text/plain": [
       "<Figure size 700x500 with 1 Axes>"
      ]
     },
     "metadata": {},
     "output_type": "display_data"
    }
   ],
   "source": [
    "plt.figure(figsize=(7, 5))\n",
    "sns.histplot(df.average_rating, kde=True)\n",
    "plt.title('Распределение рейтинга книг')\n",
    "plt.show()"
   ]
  },
  {
   "cell_type": "markdown",
   "id": "ed0a0325",
   "metadata": {},
   "source": [
    "Распределение рейтинга книг имеет вид нормального (mean = 3.93, std = 0.35).\n",
    "Среднее значение рейтинга = 4 говорит о том, что людям свойственно ставить 'хорошие' оценки книгам. Практически отсутствуют оценки со значением [0, 2.5]. Основной разброс оценок книг в диапазоне от 3 до 5."
   ]
  },
  {
   "cell_type": "markdown",
   "id": "fc77a8ba",
   "metadata": {},
   "source": [
    "## Корреляция признаков "
   ]
  },
  {
   "cell_type": "code",
   "execution_count": 30,
   "id": "14dae03b",
   "metadata": {},
   "outputs": [
    {
     "data": {
      "text/plain": [
       "<AxesSubplot:>"
      ]
     },
     "execution_count": 30,
     "metadata": {},
     "output_type": "execute_result"
    },
    {
     "data": {
      "image/png": "[encoded data removed]",
      "text/plain": [
       "<Figure size 700x500 with 2 Axes>"
      ]
     },
     "metadata": {},
     "output_type": "display_data"
    }
   ],
   "source": [
    "matrix = np.tril(df.corr(method='spearman'))\n",
    "\n",
    "plt.figure(figsize=(7, 5))\n",
    "sns.heatmap(df.corr(method='spearman'), annot=True, \n",
    "            fmt='.2f', cmap='coolwarm', mask=matrix)"
   ]
  },
  {
   "cell_type": "markdown",
   "id": "4cff22f6",
   "metadata": {},
   "source": [
    "Признаки rating_count и text_reviews_count имеют высокую корреляцию. Для дальнейшего анализа исключим из рассмотрения признак text_reviews_count."
   ]
  },
  {
   "cell_type": "code",
   "execution_count": 31,
   "id": "f1a01a6e",
   "metadata": {},
   "outputs": [],
   "source": [
    "df = df.drop(columns=['text_reviews_count'], axis=1)\n",
    "#df"
   ]
  },
  {
   "cell_type": "markdown",
   "id": "8bd65a21",
   "metadata": {},
   "source": [
    "## 1 Гипотеза"
   ]
  },
  {
   "cell_type": "markdown",
   "id": "296a4882",
   "metadata": {},
   "source": [
    "- Чем больше страниц содержится в книге, тем больше её рейтинг"
   ]
  },
  {
   "cell_type": "code",
   "execution_count": 32,
   "id": "6ea46836",
   "metadata": {},
   "outputs": [
    {
     "data": {
      "image/png": "[encoded data removed]",
      "text/plain": [
       "<Figure size 500x500 with 1 Axes>"
      ]
     },
     "metadata": {},
     "output_type": "display_data"
    }
   ],
   "source": [
    "plt.figure(figsize=(5,5))\n",
    "sns.scatterplot(data=df, y='num_pages', x='average_rating')\n",
    "plt.title('Зависимость рейтинга книги от количества страниц')\n",
    "plt.xlabel('рейтинг')\n",
    "plt.ylabel('количество страниц')\n",
    "plt.show()"
   ]
  },
  {
   "cell_type": "markdown",
   "id": "2861f98a",
   "metadata": {},
   "source": [
    "Явной связи между количеством страниц и рейтингом нет. Это также видно на heatmap: коэффициент корреляции = 0.08 - слабая положительная зависимость. Можно заметить, что книги с рейтингом > 4.5 преимущественно имеют число страниц меньше 400."
   ]
  },
  {
   "cell_type": "markdown",
   "id": "eea5c429",
   "metadata": {},
   "source": [
    "## 2 Гипотеза "
   ]
  },
  {
   "cell_type": "markdown",
   "id": "d7338256",
   "metadata": {},
   "source": [
    "- Чем старее книга, тем выше рейтинг"
   ]
  },
  {
   "cell_type": "code",
   "execution_count": 33,
   "id": "a217f1b9",
   "metadata": {},
   "outputs": [
    {
     "data": {
      "image/png": "[encoded data removed]",
      "text/plain": [
       "<Figure size 1500x500 with 1 Axes>"
      ]
     },
     "metadata": {},
     "output_type": "display_data"
    }
   ],
   "source": [
    "plt.figure(figsize=(15, 5))\n",
    "sns.boxplot(x='century', y='average_rating', data=df, palette='rocket')\n",
    "plt.title('Связь рейтинга и века публикации', fontsize=16)\n",
    "plt.xlabel('век', fontsize=14)\n",
    "plt.ylabel('рейтинг', fontsize=14)\n",
    "plt.show()"
   ]
  },
  {
   "cell_type": "markdown",
   "id": "b5ed5147",
   "metadata": {},
   "source": [
    "Для произведений первой половины 20-го века свойственно более высокое значение медианы, меньший межквантильный диапазон вместе с более узким диапазоном макс-мин значений. Это означает, что в этой группе книг оценки наиболее вероятно распределены около среднего рейтинга (рейтинга = 4). Для книг второй половины 20-го века и 21 века свойтвеннен практически одинаково широкое распредение рейтинга (от 3.3 до 4.7). Однако, медиана для группы книг 21 века лежит чуть ниже. "
   ]
  },
  {
   "cell_type": "markdown",
   "id": "e415153f",
   "metadata": {},
   "source": [
    "## 3 Гипотеза"
   ]
  },
  {
   "cell_type": "markdown",
   "id": "910e96b3",
   "metadata": {},
   "source": [
    "- Рейтинг зависит от жанра книги. Книги определенного жанра имеют заметный выигрыш в рейтинге."
   ]
  },
  {
   "cell_type": "code",
   "execution_count": 34,
   "id": "e1036851",
   "metadata": {},
   "outputs": [
    {
     "data": {
      "text/plain": [
       "genre\n",
       "Fiction             1638\n",
       "Classics             822\n",
       "Fantasy              758\n",
       "Nonfiction           727\n",
       "Mystery              505\n",
       "                    ... \n",
       "Literary Fiction       1\n",
       "Authors                1\n",
       "Erotica                1\n",
       "Language Arts          1\n",
       " 1ST edition           1\n",
       "Name: title, Length: 205, dtype: int64"
      ]
     },
     "execution_count": 34,
     "metadata": {},
     "output_type": "execute_result"
    }
   ],
   "source": [
    "genres_sort = df.groupby('genre')['title'].count().sort_values(ascending = False)\n",
    "genres_sort"
   ]
  },
  {
   "cell_type": "code",
   "execution_count": 35,
   "id": "57f18a8f",
   "metadata": {},
   "outputs": [],
   "source": [
    "# создаём датафрейм на основе агрегации\n",
    "df_genre = genres_sort.to_frame().reset_index()"
   ]
  },
  {
   "cell_type": "code",
   "execution_count": 36,
   "id": "8f77617e",
   "metadata": {},
   "outputs": [],
   "source": [
    "# отделяем основные жанры (где более 10 экземпляров)\n",
    "main_genres = df_genre[df_genre.title >= 10]\n",
    "main_genres_list = list(main_genres.genre)"
   ]
  },
  {
   "cell_type": "code",
   "execution_count": 37,
   "id": "9ecc337a",
   "metadata": {},
   "outputs": [],
   "source": [
    "# делаем замену в данных, где жанры имеют мало экземпляров\n",
    "df.genre = df.genre.apply(lambda x: x if x in main_genres_list else 'No genre')"
   ]
  },
  {
   "cell_type": "code",
   "execution_count": 38,
   "id": "801d0f7b",
   "metadata": {},
   "outputs": [],
   "source": [
    "top_genres = df_genre[:10]\n",
    "top_genres_list = list(top_genres.genre)"
   ]
  },
  {
   "cell_type": "code",
   "execution_count": 39,
   "id": "5d0ba9cc",
   "metadata": {},
   "outputs": [],
   "source": [
    "df_copy = df\n",
    "df_copy.genre = df_copy.genre.apply(lambda x: x if x in top_genres_list else '0')"
   ]
  },
  {
   "cell_type": "code",
   "execution_count": 40,
   "id": "376feb53",
   "metadata": {},
   "outputs": [],
   "source": [
    "df_copy = df_copy[df_copy.genre != '0']\n",
    "# df_copy"
   ]
  },
  {
   "cell_type": "code",
   "execution_count": 41,
   "id": "48c4cffe",
   "metadata": {},
   "outputs": [
    {
     "data": {
      "image/png": "[encoded data removed]",
      "text/plain": [
       "<Figure size 1500x500 with 1 Axes>"
      ]
     },
     "metadata": {},
     "output_type": "display_data"
    }
   ],
   "source": [
    "plt.figure(figsize=(15, 5))\n",
    "\n",
    "sns.boxplot(x='genre', y='average_rating', data=df_copy, palette='rocket')\n",
    "plt.title('Связь рейтинга и жанра', fontsize=16)\n",
    "plt.ylabel('рейтинг', fontsize=14)\n",
    "plt.xlabel('жанр', fontsize=14)\n",
    "plt.show()"
   ]
  },
  {
   "cell_type": "markdown",
   "id": "d5957303",
   "metadata": {},
   "source": [
    "В среднем, среди топ10 популярных жанров показатели среднего рейтинга книг схожи. Однако, лидирующие позиции занимают книги, написанные в жанрах Fantasy и sequential art."
   ]
  },
  {
   "cell_type": "markdown",
   "id": "02fd4689",
   "metadata": {},
   "source": [
    "## 4 Гипотеза "
   ]
  },
  {
   "cell_type": "markdown",
   "id": "6a3075a0",
   "metadata": {},
   "source": [
    "- Рейтинг связан с языком. Английские книги имеют более высокий рейтинг"
   ]
  },
  {
   "cell_type": "code",
   "execution_count": 42,
   "id": "185be7ca",
   "metadata": {},
   "outputs": [],
   "source": [
    "lang_rating = df.groupby('language_code')['average_rating'].mean().sort_values(ascending = False)"
   ]
  },
  {
   "cell_type": "code",
   "execution_count": 43,
   "id": "8e8169ba",
   "metadata": {},
   "outputs": [],
   "source": [
    "language_sort = df.groupby('language_code')['title'].count().sort_values(ascending = False)"
   ]
  },
  {
   "cell_type": "code",
   "execution_count": 44,
   "id": "835fe540",
   "metadata": {},
   "outputs": [],
   "source": [
    "df_language = language_sort.to_frame().reset_index()\n",
    "#df_language "
   ]
  },
  {
   "cell_type": "code",
   "execution_count": 45,
   "id": "81d41ea3",
   "metadata": {},
   "outputs": [],
   "source": [
    "top_language = df_language[:5]\n",
    "top_language_list = list(top_language.language_code)"
   ]
  },
  {
   "cell_type": "code",
   "execution_count": 46,
   "id": "5e3d0ded",
   "metadata": {},
   "outputs": [],
   "source": [
    "df_copy_lang = df\n",
    "df_copy_lang.language_code = df_copy_lang.language_code.apply(lambda x: x if x in top_language_list else '0')\n",
    "df_copy_lang = df_copy_lang[df_copy_lang.language_code != '0']"
   ]
  },
  {
   "cell_type": "code",
   "execution_count": 47,
   "id": "d0e9877b",
   "metadata": {},
   "outputs": [
    {
     "data": {
      "image/png": "[encoded data removed]",
      "text/plain": [
       "<Figure size 1500x500 with 1 Axes>"
      ]
     },
     "metadata": {},
     "output_type": "display_data"
    }
   ],
   "source": [
    "plt.figure(figsize=(15, 5))\n",
    "\n",
    "sns.boxplot(x='language_code', y='average_rating', data=df_copy_lang, palette='rocket')\n",
    "plt.title('Связь рейтинга и языка', fontsize=16)\n",
    "plt.ylabel('рейтинг', fontsize=14)\n",
    "plt.xlabel('язык', fontsize=14)\n",
    "plt.show()"
   ]
  },
  {
   "cell_type": "markdown",
   "id": "d04c57f4",
   "metadata": {},
   "source": [
    "Показатели по среднему рейтингу очень близки и отображают общее распределение рейтинга по всему набору данных. Однако, можно отметить, что французские книги оценены выше всреднем. Для французских, испанских и британских книг диапазон максимальных-минимальных значений уже. В то время как для английских книг свойственны экстремально высокие (5 баллов) и низкие (<3 баллов) оценки."
   ]
  },
  {
   "cell_type": "markdown",
   "id": "cfad32f1",
   "metadata": {},
   "source": [
    "# Сохранение уникальных значений "
   ]
  },
  {
   "cell_type": "code",
   "execution_count": 48,
   "id": "32761335",
   "metadata": {},
   "outputs": [
    {
     "data": {
      "text/html": [
       "<div>\n",
       "<style scoped>\n",
       "    .dataframe tbody tr th:only-of-type {\n",
       "        vertical-align: middle;\n",
       "    }\n",
       "\n",
       "    .dataframe tbody tr th {\n",
       "        vertical-align: top;\n",
       "    }\n",
       "\n",
       "    .dataframe thead th {\n",
       "        text-align: right;\n",
       "    }\n",
       "</style>\n",
       "<table border=\"1\" class=\"dataframe\">\n",
       "  <thead>\n",
       "    <tr style=\"text-align: right;\">\n",
       "      <th></th>\n",
       "      <th>bookID</th>\n",
       "      <th>title</th>\n",
       "      <th>authors</th>\n",
       "      <th>average_rating</th>\n",
       "      <th>isbn</th>\n",
       "      <th>isbn13</th>\n",
       "      <th>language_code</th>\n",
       "      <th>num_pages</th>\n",
       "      <th>ratings_count</th>\n",
       "      <th>publication_date</th>\n",
       "      <th>publisher</th>\n",
       "      <th>genre</th>\n",
       "      <th>publication_year</th>\n",
       "      <th>century</th>\n",
       "    </tr>\n",
       "  </thead>\n",
       "  <tbody>\n",
       "    <tr>\n",
       "      <th>2</th>\n",
       "      <td>4</td>\n",
       "      <td>Harry Potter and the Chamber of Secrets (Harry...</td>\n",
       "      <td>J.K. Rowling</td>\n",
       "      <td>4.42</td>\n",
       "      <td>0439554896</td>\n",
       "      <td>9780439554893</td>\n",
       "      <td>eng</td>\n",
       "      <td>352</td>\n",
       "      <td>6333</td>\n",
       "      <td>11/1/2003</td>\n",
       "      <td>Scholastic</td>\n",
       "      <td>Fantasy</td>\n",
       "      <td>2003</td>\n",
       "      <td>21</td>\n",
       "    </tr>\n",
       "    <tr>\n",
       "      <th>5</th>\n",
       "      <td>9</td>\n",
       "      <td>Unauthorized Harry Potter Book Seven News: \"Ha...</td>\n",
       "      <td>W. Frederick Zimmerman</td>\n",
       "      <td>3.74</td>\n",
       "      <td>0976540606</td>\n",
       "      <td>9780976540601</td>\n",
       "      <td>en-US</td>\n",
       "      <td>152</td>\n",
       "      <td>19</td>\n",
       "      <td>4/26/2005</td>\n",
       "      <td>Nimble Books</td>\n",
       "      <td>Fiction</td>\n",
       "      <td>2005</td>\n",
       "      <td>21</td>\n",
       "    </tr>\n",
       "    <tr>\n",
       "      <th>7</th>\n",
       "      <td>12</td>\n",
       "      <td>The Ultimate Hitchhiker's Guide: Five Complete...</td>\n",
       "      <td>Douglas Adams</td>\n",
       "      <td>4.38</td>\n",
       "      <td>0517226952</td>\n",
       "      <td>9780517226957</td>\n",
       "      <td>eng</td>\n",
       "      <td>815</td>\n",
       "      <td>3628</td>\n",
       "      <td>11/1/2005</td>\n",
       "      <td>Gramercy Books</td>\n",
       "      <td>Science Fiction</td>\n",
       "      <td>2005</td>\n",
       "      <td>21</td>\n",
       "    </tr>\n",
       "    <tr>\n",
       "      <th>9</th>\n",
       "      <td>14</td>\n",
       "      <td>The Hitchhiker's Guide to the Galaxy (Hitchhik...</td>\n",
       "      <td>Douglas Adams</td>\n",
       "      <td>4.22</td>\n",
       "      <td>1400052920</td>\n",
       "      <td>9781400052929</td>\n",
       "      <td>eng</td>\n",
       "      <td>215</td>\n",
       "      <td>4930</td>\n",
       "      <td>8/3/2004</td>\n",
       "      <td>Crown</td>\n",
       "      <td>Science Fiction</td>\n",
       "      <td>2004</td>\n",
       "      <td>21</td>\n",
       "    </tr>\n",
       "    <tr>\n",
       "      <th>10</th>\n",
       "      <td>16</td>\n",
       "      <td>The Hitchhiker's Guide to the Galaxy (Hitchhik...</td>\n",
       "      <td>Douglas Adams/Stephen Fry</td>\n",
       "      <td>4.22</td>\n",
       "      <td>0739322206</td>\n",
       "      <td>9780739322208</td>\n",
       "      <td>eng</td>\n",
       "      <td>6</td>\n",
       "      <td>1266</td>\n",
       "      <td>3/23/2005</td>\n",
       "      <td>Random House Audio</td>\n",
       "      <td>Science Fiction</td>\n",
       "      <td>2005</td>\n",
       "      <td>21</td>\n",
       "    </tr>\n",
       "    <tr>\n",
       "      <th>...</th>\n",
       "      <td>...</td>\n",
       "      <td>...</td>\n",
       "      <td>...</td>\n",
       "      <td>...</td>\n",
       "      <td>...</td>\n",
       "      <td>...</td>\n",
       "      <td>...</td>\n",
       "      <td>...</td>\n",
       "      <td>...</td>\n",
       "      <td>...</td>\n",
       "      <td>...</td>\n",
       "      <td>...</td>\n",
       "      <td>...</td>\n",
       "      <td>...</td>\n",
       "    </tr>\n",
       "    <tr>\n",
       "      <th>11118</th>\n",
       "      <td>45631</td>\n",
       "      <td>Expelled from Eden: A William T. Vollmann Reader</td>\n",
       "      <td>William T. Vollmann/Larry McCaffery/Michael He...</td>\n",
       "      <td>4.06</td>\n",
       "      <td>1560254416</td>\n",
       "      <td>9781560254416</td>\n",
       "      <td>eng</td>\n",
       "      <td>512</td>\n",
       "      <td>156</td>\n",
       "      <td>12/21/2004</td>\n",
       "      <td>Da Capo Press</td>\n",
       "      <td>Fantasy</td>\n",
       "      <td>2004</td>\n",
       "      <td>21</td>\n",
       "    </tr>\n",
       "    <tr>\n",
       "      <th>11119</th>\n",
       "      <td>45633</td>\n",
       "      <td>You Bright and Risen Angels</td>\n",
       "      <td>William T. Vollmann</td>\n",
       "      <td>4.08</td>\n",
       "      <td>0140110879</td>\n",
       "      <td>9780140110876</td>\n",
       "      <td>eng</td>\n",
       "      <td>635</td>\n",
       "      <td>783</td>\n",
       "      <td>12/1/1988</td>\n",
       "      <td>Penguin Books</td>\n",
       "      <td>Fantasy</td>\n",
       "      <td>1988</td>\n",
       "      <td>20,5</td>\n",
       "    </tr>\n",
       "    <tr>\n",
       "      <th>11120</th>\n",
       "      <td>45634</td>\n",
       "      <td>The Ice-Shirt (Seven Dreams #1)</td>\n",
       "      <td>William T. Vollmann</td>\n",
       "      <td>3.96</td>\n",
       "      <td>0140131965</td>\n",
       "      <td>9780140131963</td>\n",
       "      <td>eng</td>\n",
       "      <td>415</td>\n",
       "      <td>820</td>\n",
       "      <td>8/1/1993</td>\n",
       "      <td>Penguin Books</td>\n",
       "      <td>Fantasy</td>\n",
       "      <td>1993</td>\n",
       "      <td>20,5</td>\n",
       "    </tr>\n",
       "    <tr>\n",
       "      <th>11121</th>\n",
       "      <td>45639</td>\n",
       "      <td>Poor People</td>\n",
       "      <td>William T. Vollmann</td>\n",
       "      <td>3.72</td>\n",
       "      <td>0060878827</td>\n",
       "      <td>9780060878825</td>\n",
       "      <td>eng</td>\n",
       "      <td>434</td>\n",
       "      <td>769</td>\n",
       "      <td>2/27/2007</td>\n",
       "      <td>Ecco</td>\n",
       "      <td>Fiction</td>\n",
       "      <td>2007</td>\n",
       "      <td>21</td>\n",
       "    </tr>\n",
       "    <tr>\n",
       "      <th>11122</th>\n",
       "      <td>45641</td>\n",
       "      <td>Las aventuras de Tom Sawyer</td>\n",
       "      <td>Mark Twain</td>\n",
       "      <td>3.91</td>\n",
       "      <td>8497646983</td>\n",
       "      <td>9788497646987</td>\n",
       "      <td>spa</td>\n",
       "      <td>272</td>\n",
       "      <td>113</td>\n",
       "      <td>5/28/2006</td>\n",
       "      <td>Edimat Libros</td>\n",
       "      <td>Fiction</td>\n",
       "      <td>2006</td>\n",
       "      <td>21</td>\n",
       "    </tr>\n",
       "  </tbody>\n",
       "</table>\n",
       "<p>9953 rows × 14 columns</p>\n",
       "</div>"
      ],
      "text/plain": [
       "       bookID                                              title  \\\n",
       "2           4  Harry Potter and the Chamber of Secrets (Harry...   \n",
       "5           9  Unauthorized Harry Potter Book Seven News: \"Ha...   \n",
       "7          12  The Ultimate Hitchhiker's Guide: Five Complete...   \n",
       "9          14  The Hitchhiker's Guide to the Galaxy (Hitchhik...   \n",
       "10         16  The Hitchhiker's Guide to the Galaxy (Hitchhik...   \n",
       "...       ...                                                ...   \n",
       "11118   45631   Expelled from Eden: A William T. Vollmann Reader   \n",
       "11119   45633                        You Bright and Risen Angels   \n",
       "11120   45634                    The Ice-Shirt (Seven Dreams #1)   \n",
       "11121   45639                                        Poor People   \n",
       "11122   45641                        Las aventuras de Tom Sawyer   \n",
       "\n",
       "                                                 authors  average_rating  \\\n",
       "2                                           J.K. Rowling            4.42   \n",
       "5                                 W. Frederick Zimmerman            3.74   \n",
       "7                                          Douglas Adams            4.38   \n",
       "9                                          Douglas Adams            4.22   \n",
       "10                             Douglas Adams/Stephen Fry            4.22   \n",
       "...                                                  ...             ...   \n",
       "11118  William T. Vollmann/Larry McCaffery/Michael He...            4.06   \n",
       "11119                                William T. Vollmann            4.08   \n",
       "11120                                William T. Vollmann            3.96   \n",
       "11121                                William T. Vollmann            3.72   \n",
       "11122                                         Mark Twain            3.91   \n",
       "\n",
       "             isbn         isbn13 language_code  num_pages  ratings_count  \\\n",
       "2      0439554896  9780439554893           eng        352           6333   \n",
       "5      0976540606  9780976540601         en-US        152             19   \n",
       "7      0517226952  9780517226957           eng        815           3628   \n",
       "9      1400052920  9781400052929           eng        215           4930   \n",
       "10     0739322206  9780739322208           eng          6           1266   \n",
       "...           ...            ...           ...        ...            ...   \n",
       "11118  1560254416  9781560254416           eng        512            156   \n",
       "11119  0140110879  9780140110876           eng        635            783   \n",
       "11120  0140131965  9780140131963           eng        415            820   \n",
       "11121  0060878827  9780060878825           eng        434            769   \n",
       "11122  8497646983  9788497646987           spa        272            113   \n",
       "\n",
       "      publication_date           publisher            genre  publication_year  \\\n",
       "2            11/1/2003          Scholastic          Fantasy              2003   \n",
       "5            4/26/2005        Nimble Books          Fiction              2005   \n",
       "7            11/1/2005      Gramercy Books  Science Fiction              2005   \n",
       "9             8/3/2004               Crown  Science Fiction              2004   \n",
       "10           3/23/2005  Random House Audio  Science Fiction              2005   \n",
       "...                ...                 ...              ...               ...   \n",
       "11118       12/21/2004       Da Capo Press          Fantasy              2004   \n",
       "11119        12/1/1988       Penguin Books          Fantasy              1988   \n",
       "11120         8/1/1993       Penguin Books          Fantasy              1993   \n",
       "11121        2/27/2007                Ecco          Fiction              2007   \n",
       "11122        5/28/2006       Edimat Libros          Fiction              2006   \n",
       "\n",
       "      century  \n",
       "2          21  \n",
       "5          21  \n",
       "7          21  \n",
       "9          21  \n",
       "10         21  \n",
       "...       ...  \n",
       "11118      21  \n",
       "11119    20,5  \n",
       "11120    20,5  \n",
       "11121      21  \n",
       "11122      21  \n",
       "\n",
       "[9953 rows x 14 columns]"
      ]
     },
     "execution_count": 48,
     "metadata": {},
     "output_type": "execute_result"
    }
   ],
   "source": [
    "df"
   ]
  },
  {
   "cell_type": "code",
   "execution_count": 49,
   "id": "5596832d",
   "metadata": {},
   "outputs": [],
   "source": [
    "def save_unique_train_data(\n",
    "    data: pd.DataFrame, drop_columns: list, target_column: str, unique_values_path: str\n",
    ") -> None:\n",
    "    \"\"\"\n",
    "    Сохранение словаря с признаками и уникальными значениями\n",
    "    :param drop_columns: список с признаками для удаления\n",
    "    :param data: датасет\n",
    "    :param target_column: целевая переменная\n",
    "    :param unique_values_path: путь до файла со словарем\n",
    "    :return: None\n",
    "    \"\"\"\n",
    "    \n",
    "    unique_df = data.drop(\n",
    "        columns=drop_columns + [target_column], axis=1, errors=\"ignore\"\n",
    "    )\n",
    "    # создаем словарь с уникальными значениями для вывода в UI\n",
    "    dict_unique = {key: unique_df[key].unique().tolist() for key in unique_df.columns}\n",
    "    with open(unique_values_path, \"w\") as file:\n",
    "        json.dump(dict_unique, file)\n"
   ]
  },
  {
   "cell_type": "code",
   "execution_count": 50,
   "id": "954ffc6e",
   "metadata": {},
   "outputs": [],
   "source": [
    "save_unique_train_data(\n",
    "    data=df,\n",
    "    drop_columns=preproc[\"drop_columns\"],\n",
    "    target_column=preproc[\"target_column\"],\n",
    "    unique_values_path=preproc[\"unique_values_path\"],\n",
    ")"
   ]
  },
  {
   "cell_type": "code",
   "execution_count": 51,
   "id": "d46a5c75",
   "metadata": {},
   "outputs": [],
   "source": [
    "df = df.drop(preproc[\"drop_columns\"], axis=1, errors=\"ignore\")"
   ]
  },
  {
   "cell_type": "code",
   "execution_count": 52,
   "id": "836daa49",
   "metadata": {},
   "outputs": [
    {
     "name": "stdout",
     "output_type": "stream",
     "text": [
      "<class 'pandas.core.frame.DataFrame'>\n",
      "Int64Index: 9953 entries, 2 to 11122\n",
      "Data columns (total 9 columns):\n",
      " #   Column            Non-Null Count  Dtype   \n",
      "---  ------            --------------  -----   \n",
      " 0   authors           9953 non-null   category\n",
      " 1   average_rating    9953 non-null   float64 \n",
      " 2   language_code     9953 non-null   object  \n",
      " 3   num_pages         9953 non-null   int64   \n",
      " 4   ratings_count     9953 non-null   int64   \n",
      " 5   publisher         9953 non-null   category\n",
      " 6   genre             9953 non-null   object  \n",
      " 7   publication_year  9953 non-null   int64   \n",
      " 8   century           9953 non-null   category\n",
      "dtypes: category(3), float64(1), int64(3), object(2)\n",
      "memory usage: 851.5+ KB\n"
     ]
    }
   ],
   "source": [
    "df.info()"
   ]
  },
  {
   "cell_type": "code",
   "execution_count": 53,
   "id": "1bd10580",
   "metadata": {},
   "outputs": [],
   "source": [
    "df.to_csv(preproc['train_path'], index=False)"
   ]
  }
 ],
 "metadata": {
  "kernelspec": {
   "display_name": "Python 3 (ipykernel)",
   "language": "python",
   "name": "python3"
  },
  "language_info": {
   "codemirror_mode": {
    "name": "ipython",
    "version": 3
   },
   "file_extension": ".py",
   "mimetype": "text/x-python",
   "name": "python",
   "nbconvert_exporter": "python",
   "pygments_lexer": "ipython3",
   "version": "3.9.13"
  }
 },
 "nbformat": 4,
 "nbformat_minor": 5
}
