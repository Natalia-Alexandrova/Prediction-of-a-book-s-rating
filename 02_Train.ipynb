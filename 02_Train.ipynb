{
 "cells": [
  {
   "cell_type": "code",
   "execution_count": 1,
   "id": "c03afedc",
   "metadata": {},
   "outputs": [
    {
     "name": "stdout",
     "output_type": "stream",
     "text": [
      "Requirement already satisfied: lightgbm in c:\\users\\natashenka\\anaconda3\\lib\\site-packages (2.2.3)\n",
      "Requirement already satisfied: scipy in c:\\users\\natashenka\\anaconda3\\lib\\site-packages (from lightgbm) (1.9.1)\n",
      "Requirement already satisfied: numpy in c:\\users\\natashenka\\anaconda3\\lib\\site-packages (from lightgbm) (1.21.6)\n",
      "Requirement already satisfied: scikit-learn in c:\\users\\natashenka\\anaconda3\\lib\\site-packages (from lightgbm) (1.5.1)\n",
      "Requirement already satisfied: threadpoolctl>=3.1.0 in c:\\users\\natashenka\\anaconda3\\lib\\site-packages (from scikit-learn->lightgbm) (3.5.0)\n",
      "Requirement already satisfied: joblib>=1.2.0 in c:\\users\\natashenka\\anaconda3\\lib\\site-packages (from scikit-learn->lightgbm) (1.4.2)\n"
     ]
    }
   ],
   "source": [
    "!pip install lightgbm"
   ]
  },
  {
   "cell_type": "code",
   "execution_count": 2,
   "id": "4905fc23",
   "metadata": {},
   "outputs": [
    {
     "name": "stdout",
     "output_type": "stream",
     "text": [
      "Requirement already satisfied: catboost in c:\\users\\natashenka\\anaconda3\\lib\\site-packages (1.2.3)\n",
      "Requirement already satisfied: six in c:\\users\\natashenka\\anaconda3\\lib\\site-packages (from catboost) (1.16.0)\n",
      "Requirement already satisfied: matplotlib in c:\\users\\natashenka\\anaconda3\\lib\\site-packages (from catboost) (3.5.2)\n",
      "Requirement already satisfied: pandas>=0.24 in c:\\users\\natashenka\\anaconda3\\lib\\site-packages (from catboost) (1.5.3)\n",
      "Requirement already satisfied: scipy in c:\\users\\natashenka\\anaconda3\\lib\\site-packages (from catboost) (1.9.1)\n",
      "Requirement already satisfied: numpy>=1.16.0 in c:\\users\\natashenka\\anaconda3\\lib\\site-packages (from catboost) (1.21.6)\n",
      "Requirement already satisfied: plotly in c:\\users\\natashenka\\anaconda3\\lib\\site-packages (from catboost) (5.9.0)\n",
      "Requirement already satisfied: graphviz in c:\\users\\natashenka\\anaconda3\\lib\\site-packages (from catboost) (0.20.3)\n",
      "Requirement already satisfied: python-dateutil>=2.8.1 in c:\\users\\natashenka\\anaconda3\\lib\\site-packages (from pandas>=0.24->catboost) (2.8.2)\n",
      "Requirement already satisfied: pytz>=2020.1 in c:\\users\\natashenka\\anaconda3\\lib\\site-packages (from pandas>=0.24->catboost) (2022.1)\n",
      "Requirement already satisfied: pyparsing>=2.2.1 in c:\\users\\natashenka\\anaconda3\\lib\\site-packages (from matplotlib->catboost) (3.0.9)\n",
      "Requirement already satisfied: cycler>=0.10 in c:\\users\\natashenka\\anaconda3\\lib\\site-packages (from matplotlib->catboost) (0.11.0)\n",
      "Requirement already satisfied: kiwisolver>=1.0.1 in c:\\users\\natashenka\\anaconda3\\lib\\site-packages (from matplotlib->catboost) (1.4.2)\n",
      "Requirement already satisfied: packaging>=20.0 in c:\\users\\natashenka\\anaconda3\\lib\\site-packages (from matplotlib->catboost) (21.3)\n",
      "Requirement already satisfied: fonttools>=4.22.0 in c:\\users\\natashenka\\anaconda3\\lib\\site-packages (from matplotlib->catboost) (4.25.0)\n",
      "Requirement already satisfied: pillow>=6.2.0 in c:\\users\\natashenka\\anaconda3\\lib\\site-packages (from matplotlib->catboost) (9.2.0)\n",
      "Requirement already satisfied: tenacity>=6.2.0 in c:\\users\\natashenka\\anaconda3\\lib\\site-packages (from plotly->catboost) (8.0.1)\n"
     ]
    }
   ],
   "source": [
    "!pip install catboost"
   ]
  },
  {
   "cell_type": "code",
   "execution_count": 3,
   "id": "ed19533f",
   "metadata": {},
   "outputs": [
    {
     "name": "stdout",
     "output_type": "stream",
     "text": [
      "Requirement already satisfied: optuna in c:\\users\\natashenka\\anaconda3\\lib\\site-packages (3.6.1)\n",
      "Requirement already satisfied: alembic>=1.5.0 in c:\\users\\natashenka\\anaconda3\\lib\\site-packages (from optuna) (1.13.2)\n",
      "Requirement already satisfied: sqlalchemy>=1.3.0 in c:\\users\\natashenka\\anaconda3\\lib\\site-packages (from optuna) (2.0.28)\n",
      "Requirement already satisfied: colorlog in c:\\users\\natashenka\\anaconda3\\lib\\site-packages (from optuna) (6.8.2)\n",
      "Requirement already satisfied: packaging>=20.0 in c:\\users\\natashenka\\anaconda3\\lib\\site-packages (from optuna) (21.3)\n",
      "Requirement already satisfied: tqdm in c:\\users\\natashenka\\anaconda3\\lib\\site-packages (from optuna) (4.64.1)\n",
      "Requirement already satisfied: numpy in c:\\users\\natashenka\\anaconda3\\lib\\site-packages (from optuna) (1.21.6)\n",
      "Requirement already satisfied: PyYAML in c:\\users\\natashenka\\anaconda3\\lib\\site-packages (from optuna) (6.0)\n",
      "Requirement already satisfied: Mako in c:\\users\\natashenka\\anaconda3\\lib\\site-packages (from alembic>=1.5.0->optuna) (1.3.5)\n",
      "Requirement already satisfied: typing-extensions>=4 in c:\\users\\natashenka\\anaconda3\\lib\\site-packages (from alembic>=1.5.0->optuna) (4.12.2)\n",
      "Requirement already satisfied: pyparsing!=3.0.5,>=2.0.2 in c:\\users\\natashenka\\anaconda3\\lib\\site-packages (from packaging>=20.0->optuna) (3.0.9)\n",
      "Requirement already satisfied: greenlet!=0.4.17 in c:\\users\\natashenka\\anaconda3\\lib\\site-packages (from sqlalchemy>=1.3.0->optuna) (1.1.1)\n",
      "Requirement already satisfied: colorama in c:\\users\\natashenka\\anaconda3\\lib\\site-packages (from colorlog->optuna) (0.4.5)\n",
      "Requirement already satisfied: MarkupSafe>=0.9.2 in c:\\users\\natashenka\\anaconda3\\lib\\site-packages (from Mako->alembic>=1.5.0->optuna) (2.0.1)\n"
     ]
    }
   ],
   "source": [
    "!pip install optuna"
   ]
  },
  {
   "cell_type": "code",
   "execution_count": 4,
   "id": "d282e82b",
   "metadata": {},
   "outputs": [],
   "source": [
    "# импорт\n",
    "import numpy as np\n",
    "import pandas as pd\n",
    "\n",
    "import json\n",
    "import yaml\n",
    "import joblib\n",
    "\n",
    "from sklearn.model_selection import train_test_split, KFold\n",
    "\n",
    "from lightgbm import LGBMRegressor\n",
    "from catboost import CatBoostRegressor, Pool\n",
    "\n",
    "from sklearn.metrics import mean_absolute_error, mean_squared_error, r2_score\n",
    "\n",
    "from tqdm import tqdm_notebook\n",
    "import optuna\n",
    "from optuna.visualization.matplotlib import plot_param_importances\n",
    "\n",
    "import warnings\n",
    "warnings.filterwarnings(\"ignore\")"
   ]
  },
  {
   "cell_type": "markdown",
   "id": "b5a80240",
   "metadata": {},
   "source": [
    "# Подбор модели для задачи регрессии"
   ]
  },
  {
   "cell_type": "markdown",
   "id": "78c10356",
   "metadata": {},
   "source": [
    "Модель будет предсказывать рейтинг книги на основе её признакового описания:\n",
    "- **authors**: автор/авторы книги\n",
    "- **language_code**: язык книги\n",
    "- **num_pages**: количество страниц\n",
    "- **ratings_count**: количество оценок книги\n",
    "- **publication_year**: дата публикации\n",
    "- **century**: век публикации\n",
    "- **publisher**: издательство\n",
    "- **genres**: жанр"
   ]
  },
  {
   "cell_type": "markdown",
   "id": "ffa65a4f",
   "metadata": {},
   "source": [
    "Для предсказания будет использоваться BoostingRegressor, как алгоритм призванный снижать ошибку за счёт уменьшения смещения, что акутально для задачи регрессии (предсказывания определённого числа - рейтинга). Так как датасет содержит категориальные даннные, рассмотрим модели LightGBM и Catboost, которые умеют обрабатывать категориальные признаки."
   ]
  },
  {
   "cell_type": "markdown",
   "id": "7e047373",
   "metadata": {},
   "source": [
    "## Препроцессинг данных "
   ]
  },
  {
   "cell_type": "code",
   "execution_count": 5,
   "id": "3bcee5d2",
   "metadata": {},
   "outputs": [],
   "source": [
    "config_path = '../config/params.yml'\n",
    "config = yaml.load(open(config_path), Loader=yaml.FullLoader)\n",
    "\n",
    "\n",
    "preproc = config['preprocessing']\n",
    "training = config['train']"
   ]
  },
  {
   "cell_type": "code",
   "execution_count": 6,
   "id": "3c07927c",
   "metadata": {},
   "outputs": [
    {
     "data": {
      "text/plain": [
       "{'change_type_columns': {'authors': 'category',\n",
       "  'language_code': 'category',\n",
       "  'publisher': 'category',\n",
       "  'genre': 'category',\n",
       "  'publication_year': 'int64',\n",
       "  'century': 'category'},\n",
       " 'date_transform': {'publication_date': 'publication_year'},\n",
       " 'copy': {'publication_year': 'century'},\n",
       " 'map_bins_columns': {'century': [[1950, 2000], [20, 20.5, 21]]},\n",
       " 'drop_columns': ['bookID',\n",
       "  'isbn',\n",
       "  'isbn13',\n",
       "  'title',\n",
       "  'publication_date',\n",
       "  'text_reviews_count'],\n",
       " 'train_path': '../data/processed/books_processed.csv',\n",
       " 'unique_values_path': '../data/processed/unique_values.json',\n",
       " 'test_size': 0.25,\n",
       " 'target_column': 'average_rating',\n",
       " 'random_state': 10,\n",
       " 'train_path_proc': '../data/processed/train.csv',\n",
       " 'test_path_proc': '../data/processed/test.csv',\n",
       " 'raw_data_path': '../data/raw/books.csv'}"
      ]
     },
     "execution_count": 6,
     "metadata": {},
     "output_type": "execute_result"
    }
   ],
   "source": [
    "# параметры препроцессинга\n",
    "preproc"
   ]
  },
  {
   "cell_type": "code",
   "execution_count": 7,
   "id": "8ecb3dd3",
   "metadata": {},
   "outputs": [
    {
     "data": {
      "text/plain": [
       "{'n_trials': 3,\n",
       " 'n_folds': 5,\n",
       " 'random_state': 10,\n",
       " 'val_size': 0.16,\n",
       " 'model_path': '../models/model.joblib',\n",
       " 'study_path': '../models/study.joblib',\n",
       " 'metrics_path': '../report/metrics.json',\n",
       " 'params_path': '../report/best_params.json'}"
      ]
     },
     "execution_count": 7,
     "metadata": {},
     "output_type": "execute_result"
    }
   ],
   "source": [
    "# параметры train\n",
    "training"
   ]
  },
  {
   "cell_type": "code",
   "execution_count": 8,
   "id": "ee90842a",
   "metadata": {},
   "outputs": [
    {
     "data": {
      "text/html": [
       "<div>\n",
       "<style scoped>\n",
       "    .dataframe tbody tr th:only-of-type {\n",
       "        vertical-align: middle;\n",
       "    }\n",
       "\n",
       "    .dataframe tbody tr th {\n",
       "        vertical-align: top;\n",
       "    }\n",
       "\n",
       "    .dataframe thead th {\n",
       "        text-align: right;\n",
       "    }\n",
       "</style>\n",
       "<table border=\"1\" class=\"dataframe\">\n",
       "  <thead>\n",
       "    <tr style=\"text-align: right;\">\n",
       "      <th></th>\n",
       "      <th>authors</th>\n",
       "      <th>average_rating</th>\n",
       "      <th>language_code</th>\n",
       "      <th>num_pages</th>\n",
       "      <th>ratings_count</th>\n",
       "      <th>publisher</th>\n",
       "      <th>genre</th>\n",
       "      <th>publication_year</th>\n",
       "      <th>century</th>\n",
       "    </tr>\n",
       "  </thead>\n",
       "  <tbody>\n",
       "    <tr>\n",
       "      <th>0</th>\n",
       "      <td>J.K. Rowling</td>\n",
       "      <td>4.42</td>\n",
       "      <td>eng</td>\n",
       "      <td>352</td>\n",
       "      <td>6333</td>\n",
       "      <td>Scholastic</td>\n",
       "      <td>Fantasy</td>\n",
       "      <td>2003</td>\n",
       "      <td>21</td>\n",
       "    </tr>\n",
       "    <tr>\n",
       "      <th>1</th>\n",
       "      <td>W. Frederick Zimmerman</td>\n",
       "      <td>3.74</td>\n",
       "      <td>en-US</td>\n",
       "      <td>152</td>\n",
       "      <td>19</td>\n",
       "      <td>Nimble Books</td>\n",
       "      <td>Fiction</td>\n",
       "      <td>2005</td>\n",
       "      <td>21</td>\n",
       "    </tr>\n",
       "    <tr>\n",
       "      <th>2</th>\n",
       "      <td>Douglas Adams</td>\n",
       "      <td>4.38</td>\n",
       "      <td>eng</td>\n",
       "      <td>815</td>\n",
       "      <td>3628</td>\n",
       "      <td>Gramercy Books</td>\n",
       "      <td>Science Fiction</td>\n",
       "      <td>2005</td>\n",
       "      <td>21</td>\n",
       "    </tr>\n",
       "    <tr>\n",
       "      <th>3</th>\n",
       "      <td>Douglas Adams</td>\n",
       "      <td>4.22</td>\n",
       "      <td>eng</td>\n",
       "      <td>215</td>\n",
       "      <td>4930</td>\n",
       "      <td>Crown</td>\n",
       "      <td>Science Fiction</td>\n",
       "      <td>2004</td>\n",
       "      <td>21</td>\n",
       "    </tr>\n",
       "    <tr>\n",
       "      <th>4</th>\n",
       "      <td>Douglas Adams/Stephen Fry</td>\n",
       "      <td>4.22</td>\n",
       "      <td>eng</td>\n",
       "      <td>6</td>\n",
       "      <td>1266</td>\n",
       "      <td>Random House Audio</td>\n",
       "      <td>Science Fiction</td>\n",
       "      <td>2005</td>\n",
       "      <td>21</td>\n",
       "    </tr>\n",
       "  </tbody>\n",
       "</table>\n",
       "</div>"
      ],
      "text/plain": [
       "                     authors  average_rating language_code  num_pages  \\\n",
       "0               J.K. Rowling            4.42           eng        352   \n",
       "1     W. Frederick Zimmerman            3.74         en-US        152   \n",
       "2              Douglas Adams            4.38           eng        815   \n",
       "3              Douglas Adams            4.22           eng        215   \n",
       "4  Douglas Adams/Stephen Fry            4.22           eng          6   \n",
       "\n",
       "   ratings_count           publisher            genre  publication_year  \\\n",
       "0           6333          Scholastic          Fantasy              2003   \n",
       "1             19        Nimble Books          Fiction              2005   \n",
       "2           3628      Gramercy Books  Science Fiction              2005   \n",
       "3           4930               Crown  Science Fiction              2004   \n",
       "4           1266  Random House Audio  Science Fiction              2005   \n",
       "\n",
       "  century  \n",
       "0      21  \n",
       "1      21  \n",
       "2      21  \n",
       "3      21  \n",
       "4      21  "
      ]
     },
     "execution_count": 8,
     "metadata": {},
     "output_type": "execute_result"
    }
   ],
   "source": [
    "# чтение данных\n",
    "data = pd.read_csv(preproc['train_path'])\n",
    "data.head()"
   ]
  },
  {
   "cell_type": "code",
   "execution_count": 9,
   "id": "851e2c37",
   "metadata": {},
   "outputs": [
    {
     "name": "stdout",
     "output_type": "stream",
     "text": [
      "<class 'pandas.core.frame.DataFrame'>\n",
      "RangeIndex: 9953 entries, 0 to 9952\n",
      "Data columns (total 9 columns):\n",
      " #   Column            Non-Null Count  Dtype  \n",
      "---  ------            --------------  -----  \n",
      " 0   authors           9953 non-null   object \n",
      " 1   average_rating    9953 non-null   float64\n",
      " 2   language_code     9953 non-null   object \n",
      " 3   num_pages         9953 non-null   int64  \n",
      " 4   ratings_count     9953 non-null   int64  \n",
      " 5   publisher         9953 non-null   object \n",
      " 6   genre             9953 non-null   object \n",
      " 7   publication_year  9953 non-null   int64  \n",
      " 8   century           9953 non-null   object \n",
      "dtypes: float64(1), int64(3), object(5)\n",
      "memory usage: 699.9+ KB\n"
     ]
    }
   ],
   "source": [
    "# проверка типа данных\n",
    "data.info()"
   ]
  },
  {
   "cell_type": "code",
   "execution_count": 10,
   "id": "d4afdde1",
   "metadata": {},
   "outputs": [],
   "source": [
    "def transform_types(data: pd.DataFrame, change_type_columns: dict) -> pd.DataFrame:\n",
    "    \"\"\"\n",
    "    Изменение типа данных для признаков\n",
    "    param data: датасет\n",
    "    param change_type_columns: словарь с признаками и типами данных\n",
    "    \"\"\"\n",
    "    \n",
    "    return data.astype(change_type_columns, errors=\"ignore\")"
   ]
  },
  {
   "cell_type": "code",
   "execution_count": 11,
   "id": "82d6e293",
   "metadata": {},
   "outputs": [],
   "source": [
    "change_type_columns = preproc['change_type_columns']\n",
    "data = transform_types(data=data, change_type_columns=change_type_columns)"
   ]
  },
  {
   "cell_type": "code",
   "execution_count": 12,
   "id": "d3bef68f",
   "metadata": {},
   "outputs": [
    {
     "data": {
      "text/plain": [
       "'average_rating'"
      ]
     },
     "execution_count": 12,
     "metadata": {},
     "output_type": "execute_result"
    }
   ],
   "source": [
    "preproc['target_column']"
   ]
  },
  {
   "cell_type": "code",
   "execution_count": 13,
   "id": "713534cf",
   "metadata": {},
   "outputs": [],
   "source": [
    "# разбиение датасета на выборки для train и test\n",
    "X = data.drop(columns=[preproc['target_column']], axis=1)\n",
    "y = data[preproc['target_column']]\n",
    "\n",
    "X_train, X_test, y_train, y_test = train_test_split(\n",
    "    X,\n",
    "    y,\n",
    "    test_size=preproc['test_size'],\n",
    "    random_state=preproc['random_state'])"
   ]
  },
  {
   "cell_type": "code",
   "execution_count": 14,
   "id": "179c91d4",
   "metadata": {},
   "outputs": [
    {
     "name": "stdout",
     "output_type": "stream",
     "text": [
      "<class 'pandas.core.frame.DataFrame'>\n",
      "Int64Index: 7464 entries, 5975 to 1289\n",
      "Data columns (total 8 columns):\n",
      " #   Column            Non-Null Count  Dtype   \n",
      "---  ------            --------------  -----   \n",
      " 0   authors           7464 non-null   category\n",
      " 1   language_code     7464 non-null   category\n",
      " 2   num_pages         7464 non-null   int64   \n",
      " 3   ratings_count     7464 non-null   int64   \n",
      " 4   publisher         7464 non-null   category\n",
      " 5   genre             7464 non-null   category\n",
      " 6   publication_year  7464 non-null   int64   \n",
      " 7   century           7464 non-null   category\n",
      "dtypes: category(5), int64(3)\n",
      "memory usage: 543.5 KB\n"
     ]
    }
   ],
   "source": [
    "# финальная проверка признаков перед обучением\n",
    "X_train.info()"
   ]
  },
  {
   "cell_type": "code",
   "execution_count": 15,
   "id": "0de04a04",
   "metadata": {},
   "outputs": [],
   "source": [
    "X_train.to_csv(preproc['train_path_proc'], index=False)"
   ]
  },
  {
   "cell_type": "code",
   "execution_count": 16,
   "id": "d21cf82b",
   "metadata": {},
   "outputs": [],
   "source": [
    "X_test.to_csv(preproc['test_path_proc'], index=False)"
   ]
  },
  {
   "cell_type": "markdown",
   "id": "88cecdb6",
   "metadata": {},
   "source": [
    "# Train"
   ]
  },
  {
   "cell_type": "markdown",
   "id": "06d58d64",
   "metadata": {},
   "source": [
    "### Метрики регрессии "
   ]
  },
  {
   "cell_type": "code",
   "execution_count": 17,
   "id": "32641acd",
   "metadata": {},
   "outputs": [],
   "source": [
    "def mape(y_true: np.ndarray, y_pred: np.ndarray) -> float:\n",
    "    \"\"\"Mean absolute percentage error\"\"\"\n",
    "    \n",
    "    return np.mean(np.abs((y_pred - y_true) / y_true)) * 100\n",
    "\n"
   ]
  },
  {
   "cell_type": "code",
   "execution_count": 18,
   "id": "5b27a4e4",
   "metadata": {},
   "outputs": [],
   "source": [
    "def wape(y_true: np.ndarray, y_pred: np.ndarray) -> float:\n",
    "    \"\"\"Weighted Absolute Percent Error\"\"\"\n",
    "    \n",
    "    return np.sum(np.abs(y_pred - y_true)) / np.sum(y_true) * 100\n",
    "\n"
   ]
  },
  {
   "cell_type": "code",
   "execution_count": 19,
   "id": "aa735495",
   "metadata": {},
   "outputs": [],
   "source": [
    "def get_metrics_regression(y_test: np.ndarray,\n",
    "                           y_pred: np.ndarray,\n",
    "                           X_test: np.ndarray,\n",
    "                           name: str = None):\n",
    "    \"\"\"Генерация таблицы с метриками для задачи регрессии\"\"\"\n",
    "    \n",
    "    df_metrics = pd.DataFrame()\n",
    "\n",
    "    df_metrics['model'] = [name]\n",
    "\n",
    "    df_metrics['MAE'] = mean_absolute_error(y_test, y_pred)\n",
    "    df_metrics['MSE'] = mean_squared_error(y_test, y_pred)\n",
    "    df_metrics['R2'] = r2_score(y_test, y_pred)\n",
    "    df_metrics['MAPE_%'] = mape(y_test, y_pred)\n",
    "    df_metrics['WAPE_%'] = wape(y_test, y_pred)\n",
    "    \n",
    "    return df_metrics\n",
    "\n"
   ]
  },
  {
   "cell_type": "code",
   "execution_count": 20,
   "id": "56803b4c",
   "metadata": {},
   "outputs": [],
   "source": [
    "def check_overfitting(model, X_train, y_train, X_test, y_test, metric_fun):\n",
    "    \"\"\"\n",
    "    Проверка на переобучение для регрессии\n",
    "    \"\"\"\n",
    "    \n",
    "    y_pred_train = model.predict(X_train)\n",
    "    y_pred_test = model.predict(X_test)\n",
    "    value_train = metric_fun(y_train, y_pred_train)\n",
    "    value_test = metric_fun(y_test, y_pred_test)\n",
    "\n",
    "    print(f'{metric_fun.__name__} train: %.3f' % value_train)\n",
    "    print(f'{metric_fun.__name__} test: %.3f' % value_test)\n",
    "    print(f'delta = {(abs(value_train - value_test)/value_test*100):.1f} %')\n",
    "    \n",
    "    "
   ]
  },
  {
   "cell_type": "markdown",
   "id": "577a6a2f",
   "metadata": {},
   "source": [
    "### LGBM Baseline"
   ]
  },
  {
   "cell_type": "code",
   "execution_count": 21,
   "id": "8f6a17dc",
   "metadata": {},
   "outputs": [
    {
     "data": {
      "text/html": [
       "<style>#sk-container-id-1 {\n",
       "  /* Definition of color scheme common for light and dark mode */\n",
       "  --sklearn-color-text: black;\n",
       "  --sklearn-color-line: gray;\n",
       "  /* Definition of color scheme for unfitted estimators */\n",
       "  --sklearn-color-unfitted-level-0: #fff5e6;\n",
       "  --sklearn-color-unfitted-level-1: #f6e4d2;\n",
       "  --sklearn-color-unfitted-level-2: #ffe0b3;\n",
       "  --sklearn-color-unfitted-level-3: chocolate;\n",
       "  /* Definition of color scheme for fitted estimators */\n",
       "  --sklearn-color-fitted-level-0: #f0f8ff;\n",
       "  --sklearn-color-fitted-level-1: #d4ebff;\n",
       "  --sklearn-color-fitted-level-2: #b3dbfd;\n",
       "  --sklearn-color-fitted-level-3: cornflowerblue;\n",
       "\n",
       "  /* Specific color for light theme */\n",
       "  --sklearn-color-text-on-default-background: var(--sg-text-color, var(--theme-code-foreground, var(--jp-content-font-color1, black)));\n",
       "  --sklearn-color-background: var(--sg-background-color, var(--theme-background, var(--jp-layout-color0, white)));\n",
       "  --sklearn-color-border-box: var(--sg-text-color, var(--theme-code-foreground, var(--jp-content-font-color1, black)));\n",
       "  --sklearn-color-icon: #696969;\n",
       "\n",
       "  @media (prefers-color-scheme: dark) {\n",
       "    /* Redefinition of color scheme for dark theme */\n",
       "    --sklearn-color-text-on-default-background: var(--sg-text-color, var(--theme-code-foreground, var(--jp-content-font-color1, white)));\n",
       "    --sklearn-color-background: var(--sg-background-color, var(--theme-background, var(--jp-layout-color0, #111)));\n",
       "    --sklearn-color-border-box: var(--sg-text-color, var(--theme-code-foreground, var(--jp-content-font-color1, white)));\n",
       "    --sklearn-color-icon: #878787;\n",
       "  }\n",
       "}\n",
       "\n",
       "#sk-container-id-1 {\n",
       "  color: var(--sklearn-color-text);\n",
       "}\n",
       "\n",
       "#sk-container-id-1 pre {\n",
       "  padding: 0;\n",
       "}\n",
       "\n",
       "#sk-container-id-1 input.sk-hidden--visually {\n",
       "  border: 0;\n",
       "  clip: rect(1px 1px 1px 1px);\n",
       "  clip: rect(1px, 1px, 1px, 1px);\n",
       "  height: 1px;\n",
       "  margin: -1px;\n",
       "  overflow: hidden;\n",
       "  padding: 0;\n",
       "  position: absolute;\n",
       "  width: 1px;\n",
       "}\n",
       "\n",
       "#sk-container-id-1 div.sk-dashed-wrapped {\n",
       "  border: 1px dashed var(--sklearn-color-line);\n",
       "  margin: 0 0.4em 0.5em 0.4em;\n",
       "  box-sizing: border-box;\n",
       "  padding-bottom: 0.4em;\n",
       "  background-color: var(--sklearn-color-background);\n",
       "}\n",
       "\n",
       "#sk-container-id-1 div.sk-container {\n",
       "  /* jupyter's `normalize.less` sets `[hidden] { display: none; }`\n",
       "     but bootstrap.min.css set `[hidden] { display: none !important; }`\n",
       "     so we also need the `!important` here to be able to override the\n",
       "     default hidden behavior on the sphinx rendered scikit-learn.org.\n",
       "     See: https://github.com/scikit-learn/scikit-learn/issues/21755 */\n",
       "  display: inline-block !important;\n",
       "  position: relative;\n",
       "}\n",
       "\n",
       "#sk-container-id-1 div.sk-text-repr-fallback {\n",
       "  display: none;\n",
       "}\n",
       "\n",
       "div.sk-parallel-item,\n",
       "div.sk-serial,\n",
       "div.sk-item {\n",
       "  /* draw centered vertical line to link estimators */\n",
       "  background-image: linear-gradient(var(--sklearn-color-text-on-default-background), var(--sklearn-color-text-on-default-background));\n",
       "  background-size: 2px 100%;\n",
       "  background-repeat: no-repeat;\n",
       "  background-position: center center;\n",
       "}\n",
       "\n",
       "/* Parallel-specific style estimator block */\n",
       "\n",
       "#sk-container-id-1 div.sk-parallel-item::after {\n",
       "  content: \"\";\n",
       "  width: 100%;\n",
       "  border-bottom: 2px solid var(--sklearn-color-text-on-default-background);\n",
       "  flex-grow: 1;\n",
       "}\n",
       "\n",
       "#sk-container-id-1 div.sk-parallel {\n",
       "  display: flex;\n",
       "  align-items: stretch;\n",
       "  justify-content: center;\n",
       "  background-color: var(--sklearn-color-background);\n",
       "  position: relative;\n",
       "}\n",
       "\n",
       "#sk-container-id-1 div.sk-parallel-item {\n",
       "  display: flex;\n",
       "  flex-direction: column;\n",
       "}\n",
       "\n",
       "#sk-container-id-1 div.sk-parallel-item:first-child::after {\n",
       "  align-self: flex-end;\n",
       "  width: 50%;\n",
       "}\n",
       "\n",
       "#sk-container-id-1 div.sk-parallel-item:last-child::after {\n",
       "  align-self: flex-start;\n",
       "  width: 50%;\n",
       "}\n",
       "\n",
       "#sk-container-id-1 div.sk-parallel-item:only-child::after {\n",
       "  width: 0;\n",
       "}\n",
       "\n",
       "/* Serial-specific style estimator block */\n",
       "\n",
       "#sk-container-id-1 div.sk-serial {\n",
       "  display: flex;\n",
       "  flex-direction: column;\n",
       "  align-items: center;\n",
       "  background-color: var(--sklearn-color-background);\n",
       "  padding-right: 1em;\n",
       "  padding-left: 1em;\n",
       "}\n",
       "\n",
       "\n",
       "/* Toggleable style: style used for estimator/Pipeline/ColumnTransformer box that is\n",
       "clickable and can be expanded/collapsed.\n",
       "- Pipeline and ColumnTransformer use this feature and define the default style\n",
       "- Estimators will overwrite some part of the style using the `sk-estimator` class\n",
       "*/\n",
       "\n",
       "/* Pipeline and ColumnTransformer style (default) */\n",
       "\n",
       "#sk-container-id-1 div.sk-toggleable {\n",
       "  /* Default theme specific background. It is overwritten whether we have a\n",
       "  specific estimator or a Pipeline/ColumnTransformer */\n",
       "  background-color: var(--sklearn-color-background);\n",
       "}\n",
       "\n",
       "/* Toggleable label */\n",
       "#sk-container-id-1 label.sk-toggleable__label {\n",
       "  cursor: pointer;\n",
       "  display: block;\n",
       "  width: 100%;\n",
       "  margin-bottom: 0;\n",
       "  padding: 0.5em;\n",
       "  box-sizing: border-box;\n",
       "  text-align: center;\n",
       "}\n",
       "\n",
       "#sk-container-id-1 label.sk-toggleable__label-arrow:before {\n",
       "  /* Arrow on the left of the label */\n",
       "  content: \"▸\";\n",
       "  float: left;\n",
       "  margin-right: 0.25em;\n",
       "  color: var(--sklearn-color-icon);\n",
       "}\n",
       "\n",
       "#sk-container-id-1 label.sk-toggleable__label-arrow:hover:before {\n",
       "  color: var(--sklearn-color-text);\n",
       "}\n",
       "\n",
       "/* Toggleable content - dropdown */\n",
       "\n",
       "#sk-container-id-1 div.sk-toggleable__content {\n",
       "  max-height: 0;\n",
       "  max-width: 0;\n",
       "  overflow: hidden;\n",
       "  text-align: left;\n",
       "  /* unfitted */\n",
       "  background-color: var(--sklearn-color-unfitted-level-0);\n",
       "}\n",
       "\n",
       "#sk-container-id-1 div.sk-toggleable__content.fitted {\n",
       "  /* fitted */\n",
       "  background-color: var(--sklearn-color-fitted-level-0);\n",
       "}\n",
       "\n",
       "#sk-container-id-1 div.sk-toggleable__content pre {\n",
       "  margin: 0.2em;\n",
       "  border-radius: 0.25em;\n",
       "  color: var(--sklearn-color-text);\n",
       "  /* unfitted */\n",
       "  background-color: var(--sklearn-color-unfitted-level-0);\n",
       "}\n",
       "\n",
       "#sk-container-id-1 div.sk-toggleable__content.fitted pre {\n",
       "  /* unfitted */\n",
       "  background-color: var(--sklearn-color-fitted-level-0);\n",
       "}\n",
       "\n",
       "#sk-container-id-1 input.sk-toggleable__control:checked~div.sk-toggleable__content {\n",
       "  /* Expand drop-down */\n",
       "  max-height: 200px;\n",
       "  max-width: 100%;\n",
       "  overflow: auto;\n",
       "}\n",
       "\n",
       "#sk-container-id-1 input.sk-toggleable__control:checked~label.sk-toggleable__label-arrow:before {\n",
       "  content: \"▾\";\n",
       "}\n",
       "\n",
       "/* Pipeline/ColumnTransformer-specific style */\n",
       "\n",
       "#sk-container-id-1 div.sk-label input.sk-toggleable__control:checked~label.sk-toggleable__label {\n",
       "  color: var(--sklearn-color-text);\n",
       "  background-color: var(--sklearn-color-unfitted-level-2);\n",
       "}\n",
       "\n",
       "#sk-container-id-1 div.sk-label.fitted input.sk-toggleable__control:checked~label.sk-toggleable__label {\n",
       "  background-color: var(--sklearn-color-fitted-level-2);\n",
       "}\n",
       "\n",
       "/* Estimator-specific style */\n",
       "\n",
       "/* Colorize estimator box */\n",
       "#sk-container-id-1 div.sk-estimator input.sk-toggleable__control:checked~label.sk-toggleable__label {\n",
       "  /* unfitted */\n",
       "  background-color: var(--sklearn-color-unfitted-level-2);\n",
       "}\n",
       "\n",
       "#sk-container-id-1 div.sk-estimator.fitted input.sk-toggleable__control:checked~label.sk-toggleable__label {\n",
       "  /* fitted */\n",
       "  background-color: var(--sklearn-color-fitted-level-2);\n",
       "}\n",
       "\n",
       "#sk-container-id-1 div.sk-label label.sk-toggleable__label,\n",
       "#sk-container-id-1 div.sk-label label {\n",
       "  /* The background is the default theme color */\n",
       "  color: var(--sklearn-color-text-on-default-background);\n",
       "}\n",
       "\n",
       "/* On hover, darken the color of the background */\n",
       "#sk-container-id-1 div.sk-label:hover label.sk-toggleable__label {\n",
       "  color: var(--sklearn-color-text);\n",
       "  background-color: var(--sklearn-color-unfitted-level-2);\n",
       "}\n",
       "\n",
       "/* Label box, darken color on hover, fitted */\n",
       "#sk-container-id-1 div.sk-label.fitted:hover label.sk-toggleable__label.fitted {\n",
       "  color: var(--sklearn-color-text);\n",
       "  background-color: var(--sklearn-color-fitted-level-2);\n",
       "}\n",
       "\n",
       "/* Estimator label */\n",
       "\n",
       "#sk-container-id-1 div.sk-label label {\n",
       "  font-family: monospace;\n",
       "  font-weight: bold;\n",
       "  display: inline-block;\n",
       "  line-height: 1.2em;\n",
       "}\n",
       "\n",
       "#sk-container-id-1 div.sk-label-container {\n",
       "  text-align: center;\n",
       "}\n",
       "\n",
       "/* Estimator-specific */\n",
       "#sk-container-id-1 div.sk-estimator {\n",
       "  font-family: monospace;\n",
       "  border: 1px dotted var(--sklearn-color-border-box);\n",
       "  border-radius: 0.25em;\n",
       "  box-sizing: border-box;\n",
       "  margin-bottom: 0.5em;\n",
       "  /* unfitted */\n",
       "  background-color: var(--sklearn-color-unfitted-level-0);\n",
       "}\n",
       "\n",
       "#sk-container-id-1 div.sk-estimator.fitted {\n",
       "  /* fitted */\n",
       "  background-color: var(--sklearn-color-fitted-level-0);\n",
       "}\n",
       "\n",
       "/* on hover */\n",
       "#sk-container-id-1 div.sk-estimator:hover {\n",
       "  /* unfitted */\n",
       "  background-color: var(--sklearn-color-unfitted-level-2);\n",
       "}\n",
       "\n",
       "#sk-container-id-1 div.sk-estimator.fitted:hover {\n",
       "  /* fitted */\n",
       "  background-color: var(--sklearn-color-fitted-level-2);\n",
       "}\n",
       "\n",
       "/* Specification for estimator info (e.g. \"i\" and \"?\") */\n",
       "\n",
       "/* Common style for \"i\" and \"?\" */\n",
       "\n",
       ".sk-estimator-doc-link,\n",
       "a:link.sk-estimator-doc-link,\n",
       "a:visited.sk-estimator-doc-link {\n",
       "  float: right;\n",
       "  font-size: smaller;\n",
       "  line-height: 1em;\n",
       "  font-family: monospace;\n",
       "  background-color: var(--sklearn-color-background);\n",
       "  border-radius: 1em;\n",
       "  height: 1em;\n",
       "  width: 1em;\n",
       "  text-decoration: none !important;\n",
       "  margin-left: 1ex;\n",
       "  /* unfitted */\n",
       "  border: var(--sklearn-color-unfitted-level-1) 1pt solid;\n",
       "  color: var(--sklearn-color-unfitted-level-1);\n",
       "}\n",
       "\n",
       ".sk-estimator-doc-link.fitted,\n",
       "a:link.sk-estimator-doc-link.fitted,\n",
       "a:visited.sk-estimator-doc-link.fitted {\n",
       "  /* fitted */\n",
       "  border: var(--sklearn-color-fitted-level-1) 1pt solid;\n",
       "  color: var(--sklearn-color-fitted-level-1);\n",
       "}\n",
       "\n",
       "/* On hover */\n",
       "div.sk-estimator:hover .sk-estimator-doc-link:hover,\n",
       ".sk-estimator-doc-link:hover,\n",
       "div.sk-label-container:hover .sk-estimator-doc-link:hover,\n",
       ".sk-estimator-doc-link:hover {\n",
       "  /* unfitted */\n",
       "  background-color: var(--sklearn-color-unfitted-level-3);\n",
       "  color: var(--sklearn-color-background);\n",
       "  text-decoration: none;\n",
       "}\n",
       "\n",
       "div.sk-estimator.fitted:hover .sk-estimator-doc-link.fitted:hover,\n",
       ".sk-estimator-doc-link.fitted:hover,\n",
       "div.sk-label-container:hover .sk-estimator-doc-link.fitted:hover,\n",
       ".sk-estimator-doc-link.fitted:hover {\n",
       "  /* fitted */\n",
       "  background-color: var(--sklearn-color-fitted-level-3);\n",
       "  color: var(--sklearn-color-background);\n",
       "  text-decoration: none;\n",
       "}\n",
       "\n",
       "/* Span, style for the box shown on hovering the info icon */\n",
       ".sk-estimator-doc-link span {\n",
       "  display: none;\n",
       "  z-index: 9999;\n",
       "  position: relative;\n",
       "  font-weight: normal;\n",
       "  right: .2ex;\n",
       "  padding: .5ex;\n",
       "  margin: .5ex;\n",
       "  width: min-content;\n",
       "  min-width: 20ex;\n",
       "  max-width: 50ex;\n",
       "  color: var(--sklearn-color-text);\n",
       "  box-shadow: 2pt 2pt 4pt #999;\n",
       "  /* unfitted */\n",
       "  background: var(--sklearn-color-unfitted-level-0);\n",
       "  border: .5pt solid var(--sklearn-color-unfitted-level-3);\n",
       "}\n",
       "\n",
       ".sk-estimator-doc-link.fitted span {\n",
       "  /* fitted */\n",
       "  background: var(--sklearn-color-fitted-level-0);\n",
       "  border: var(--sklearn-color-fitted-level-3);\n",
       "}\n",
       "\n",
       ".sk-estimator-doc-link:hover span {\n",
       "  display: block;\n",
       "}\n",
       "\n",
       "/* \"?\"-specific style due to the `<a>` HTML tag */\n",
       "\n",
       "#sk-container-id-1 a.estimator_doc_link {\n",
       "  float: right;\n",
       "  font-size: 1rem;\n",
       "  line-height: 1em;\n",
       "  font-family: monospace;\n",
       "  background-color: var(--sklearn-color-background);\n",
       "  border-radius: 1rem;\n",
       "  height: 1rem;\n",
       "  width: 1rem;\n",
       "  text-decoration: none;\n",
       "  /* unfitted */\n",
       "  color: var(--sklearn-color-unfitted-level-1);\n",
       "  border: var(--sklearn-color-unfitted-level-1) 1pt solid;\n",
       "}\n",
       "\n",
       "#sk-container-id-1 a.estimator_doc_link.fitted {\n",
       "  /* fitted */\n",
       "  border: var(--sklearn-color-fitted-level-1) 1pt solid;\n",
       "  color: var(--sklearn-color-fitted-level-1);\n",
       "}\n",
       "\n",
       "/* On hover */\n",
       "#sk-container-id-1 a.estimator_doc_link:hover {\n",
       "  /* unfitted */\n",
       "  background-color: var(--sklearn-color-unfitted-level-3);\n",
       "  color: var(--sklearn-color-background);\n",
       "  text-decoration: none;\n",
       "}\n",
       "\n",
       "#sk-container-id-1 a.estimator_doc_link.fitted:hover {\n",
       "  /* fitted */\n",
       "  background-color: var(--sklearn-color-fitted-level-3);\n",
       "}\n",
       "</style><div id=\"sk-container-id-1\" class=\"sk-top-container\"><div class=\"sk-text-repr-fallback\"><pre>LGBMRegressor(random_state=10)</pre><b>In a Jupyter environment, please rerun this cell to show the HTML representation or trust the notebook. <br />On GitHub, the HTML representation is unable to render, please try loading this page with nbviewer.org.</b></div><div class=\"sk-container\" hidden><div class=\"sk-item\"><div class=\"sk-estimator  sk-toggleable\"><input class=\"sk-toggleable__control sk-hidden--visually\" id=\"sk-estimator-id-1\" type=\"checkbox\" checked><label for=\"sk-estimator-id-1\" class=\"sk-toggleable__label  sk-toggleable__label-arrow \">&nbsp;LGBMRegressor<span class=\"sk-estimator-doc-link \">i<span>Not fitted</span></span></label><div class=\"sk-toggleable__content \"><pre>LGBMRegressor(random_state=10)</pre></div> </div></div></div></div>"
      ],
      "text/plain": [
       "LGBMRegressor(random_state=10)"
      ]
     },
     "execution_count": 21,
     "metadata": {},
     "output_type": "execute_result"
    }
   ],
   "source": [
    "lgbm = LGBMRegressor(random_state=training['random_state'])\n",
    "lgbm.fit(X_train, y_train)"
   ]
  },
  {
   "cell_type": "code",
   "execution_count": 22,
   "id": "1f78c204",
   "metadata": {},
   "outputs": [
    {
     "data": {
      "text/html": [
       "<div>\n",
       "<style scoped>\n",
       "    .dataframe tbody tr th:only-of-type {\n",
       "        vertical-align: middle;\n",
       "    }\n",
       "\n",
       "    .dataframe tbody tr th {\n",
       "        vertical-align: top;\n",
       "    }\n",
       "\n",
       "    .dataframe thead th {\n",
       "        text-align: right;\n",
       "    }\n",
       "</style>\n",
       "<table border=\"1\" class=\"dataframe\">\n",
       "  <thead>\n",
       "    <tr style=\"text-align: right;\">\n",
       "      <th></th>\n",
       "      <th>model</th>\n",
       "      <th>MAE</th>\n",
       "      <th>MSE</th>\n",
       "      <th>R2</th>\n",
       "      <th>MAPE_%</th>\n",
       "      <th>WAPE_%</th>\n",
       "    </tr>\n",
       "  </thead>\n",
       "  <tbody>\n",
       "    <tr>\n",
       "      <th>0</th>\n",
       "      <td>LGBM_base_test</td>\n",
       "      <td>0.208069</td>\n",
       "      <td>0.076819</td>\n",
       "      <td>0.128265</td>\n",
       "      <td>5.45462</td>\n",
       "      <td>5.292585</td>\n",
       "    </tr>\n",
       "  </tbody>\n",
       "</table>\n",
       "</div>"
      ],
      "text/plain": [
       "            model       MAE       MSE        R2   MAPE_%    WAPE_%\n",
       "0  LGBM_base_test  0.208069  0.076819  0.128265  5.45462  5.292585"
      ]
     },
     "execution_count": 22,
     "metadata": {},
     "output_type": "execute_result"
    }
   ],
   "source": [
    "y_pred_lgbm = lgbm.predict(X_test)\n",
    "\n",
    "model_metrics = get_metrics_regression(y_test=y_test,\n",
    "                           y_pred=y_pred_lgbm,\n",
    "                           X_test=X_test,\n",
    "                           name='LGBM_base_test')\n",
    "\n",
    "model_metrics"
   ]
  },
  {
   "cell_type": "code",
   "execution_count": 23,
   "id": "e2070a47",
   "metadata": {},
   "outputs": [
    {
     "name": "stdout",
     "output_type": "stream",
     "text": [
      "mean_absolute_error train: 0.169\n",
      "mean_absolute_error test: 0.208\n",
      "delta = 18.9 %\n"
     ]
    }
   ],
   "source": [
    "check_overfitting(lgbm, X_train, y_train, \n",
    "                  X_test, y_test, mean_absolute_error)"
   ]
  },
  {
   "cell_type": "markdown",
   "id": "4daed66a",
   "metadata": {},
   "source": [
    "MAE = 0.2 соизмеримо с диапазоном изменения оценки рейтинга (от 0 до 5). По относительным метрикам (MAPE, WAPE) выявлено отклонение в 5% предсказания от истинного рейтинга. Несмотря на то, что метрики выглядят убедительно, чтобы выбрать LightGBM, вызывает сомнения малый коэффициент детегминации."
   ]
  },
  {
   "cell_type": "markdown",
   "id": "9ebb8390",
   "metadata": {},
   "source": [
    "### CatBoost baseline "
   ]
  },
  {
   "cell_type": "code",
   "execution_count": 24,
   "id": "c5a714b0",
   "metadata": {},
   "outputs": [],
   "source": [
    "cat_features = X.select_dtypes('category').columns.tolist()\n",
    "\n",
    "cat = CatBoostRegressor(allow_writing_files=False,\n",
    "                        random_state=training['random_state'],\n",
    "                        eval_metric=\"MAE\",\n",
    "                        cat_features=cat_features)\n",
    "cat.fit(X_train,\n",
    "        y_train,\n",
    "        verbose=False,\n",
    "        early_stopping_rounds=100)\n",
    "\n",
    "y_pred_cat = cat.predict(X_test)"
   ]
  },
  {
   "cell_type": "code",
   "execution_count": 25,
   "id": "1b40ef63",
   "metadata": {},
   "outputs": [
    {
     "data": {
      "text/html": [
       "<div>\n",
       "<style scoped>\n",
       "    .dataframe tbody tr th:only-of-type {\n",
       "        vertical-align: middle;\n",
       "    }\n",
       "\n",
       "    .dataframe tbody tr th {\n",
       "        vertical-align: top;\n",
       "    }\n",
       "\n",
       "    .dataframe thead th {\n",
       "        text-align: right;\n",
       "    }\n",
       "</style>\n",
       "<table border=\"1\" class=\"dataframe\">\n",
       "  <thead>\n",
       "    <tr style=\"text-align: right;\">\n",
       "      <th></th>\n",
       "      <th>model</th>\n",
       "      <th>MAE</th>\n",
       "      <th>MSE</th>\n",
       "      <th>R2</th>\n",
       "      <th>MAPE_%</th>\n",
       "      <th>WAPE_%</th>\n",
       "    </tr>\n",
       "  </thead>\n",
       "  <tbody>\n",
       "    <tr>\n",
       "      <th>0</th>\n",
       "      <td>LGBM_base_test</td>\n",
       "      <td>0.208069</td>\n",
       "      <td>0.076819</td>\n",
       "      <td>0.128265</td>\n",
       "      <td>5.454620</td>\n",
       "      <td>5.292585</td>\n",
       "    </tr>\n",
       "    <tr>\n",
       "      <th>0</th>\n",
       "      <td>CatBoost_base_test</td>\n",
       "      <td>0.196060</td>\n",
       "      <td>0.069811</td>\n",
       "      <td>0.207791</td>\n",
       "      <td>5.148828</td>\n",
       "      <td>4.987110</td>\n",
       "    </tr>\n",
       "  </tbody>\n",
       "</table>\n",
       "</div>"
      ],
      "text/plain": [
       "                model       MAE       MSE        R2    MAPE_%    WAPE_%\n",
       "0      LGBM_base_test  0.208069  0.076819  0.128265  5.454620  5.292585\n",
       "0  CatBoost_base_test  0.196060  0.069811  0.207791  5.148828  4.987110"
      ]
     },
     "execution_count": 25,
     "metadata": {},
     "output_type": "execute_result"
    }
   ],
   "source": [
    "model_metrics = pd.concat([\n",
    "    model_metrics,\n",
    "    get_metrics_regression(y_test=y_test,\n",
    "                           y_pred=y_pred_cat,\n",
    "                           X_test=X_test,\n",
    "                           name='CatBoost_base_test')\n",
    "])\n",
    "model_metrics"
   ]
  },
  {
   "cell_type": "code",
   "execution_count": 26,
   "id": "e3ad3c1c",
   "metadata": {},
   "outputs": [
    {
     "name": "stdout",
     "output_type": "stream",
     "text": [
      "mean_absolute_error train: 0.134\n",
      "mean_absolute_error test: 0.196\n",
      "delta = 31.5 %\n"
     ]
    }
   ],
   "source": [
    "check_overfitting(cat, X_train, y_train, X_test, y_test, mean_absolute_error)"
   ]
  },
  {
   "cell_type": "markdown",
   "id": "8f41d5f7",
   "metadata": {},
   "source": [
    "У Catboost baseline все метрики лучше, чем у LGBM baseline: MAE, MSE, MAPE, WAPE немного уменьшились, a R2 коэффициент увеличился в два раза. (Однако, всё равно далёк от 1). Также, если смотреть переобучение модели, для Catboost оно больше, чем для LGBM (32% vs. 20%), но mae на test дял catboost сопоставиа с mae на train для lgbm. В итоге, выбираем catboost."
   ]
  },
  {
   "cell_type": "markdown",
   "id": "ef811c95",
   "metadata": {},
   "source": [
    "# Tuning catboost "
   ]
  },
  {
   "cell_type": "code",
   "execution_count": 27,
   "id": "68efd4ea",
   "metadata": {},
   "outputs": [
    {
     "data": {
      "text/html": [
       "<div>\n",
       "<style scoped>\n",
       "    .dataframe tbody tr th:only-of-type {\n",
       "        vertical-align: middle;\n",
       "    }\n",
       "\n",
       "    .dataframe tbody tr th {\n",
       "        vertical-align: top;\n",
       "    }\n",
       "\n",
       "    .dataframe thead th {\n",
       "        text-align: right;\n",
       "    }\n",
       "</style>\n",
       "<table border=\"1\" class=\"dataframe\">\n",
       "  <thead>\n",
       "    <tr style=\"text-align: right;\">\n",
       "      <th></th>\n",
       "      <th>model</th>\n",
       "      <th>MAE</th>\n",
       "      <th>MSE</th>\n",
       "      <th>R2</th>\n",
       "      <th>MAPE_%</th>\n",
       "      <th>WAPE_%</th>\n",
       "    </tr>\n",
       "  </thead>\n",
       "  <tbody>\n",
       "    <tr>\n",
       "      <th>0</th>\n",
       "      <td>CatBoost_baseline</td>\n",
       "      <td>0.19606</td>\n",
       "      <td>0.069811</td>\n",
       "      <td>0.207791</td>\n",
       "      <td>5.148828</td>\n",
       "      <td>4.98711</td>\n",
       "    </tr>\n",
       "  </tbody>\n",
       "</table>\n",
       "</div>"
      ],
      "text/plain": [
       "               model      MAE       MSE        R2    MAPE_%   WAPE_%\n",
       "0  CatBoost_baseline  0.19606  0.069811  0.207791  5.148828  4.98711"
      ]
     },
     "execution_count": 27,
     "metadata": {},
     "output_type": "execute_result"
    }
   ],
   "source": [
    "cat_tuning_metrics = get_metrics_regression(y_test=y_test,\n",
    "                           y_pred=y_pred_cat,\n",
    "                           X_test=X_test,\n",
    "                           name='CatBoost_baseline')\n",
    "cat_tuning_metrics"
   ]
  },
  {
   "cell_type": "code",
   "execution_count": null,
   "id": "0331efcd",
   "metadata": {},
   "outputs": [],
   "source": [
    "for num in tqdm_notebook([500, 800, 1200, 1500]):\n",
    "    cat = CatBoostRegressor(allow_writing_files=False, \n",
    "                            random_state=training['random_state'],\n",
    "                            iterations=num,\n",
    "                            eval_metric=\"MAE\",\n",
    "                            cat_features=cat_features,\n",
    "                            verbose=False)\n",
    "    cat.fit(X_train, y_train)\n",
    "    y_pred = cat.predict(X_test)\n",
    "\n",
    "    result = get_metrics_regression(y_test, y_pred, X_test)\n",
    "    print(f\"estimators_num = {num}, MAE = {round(result['MAE'].values[0], 6)}\")"
   ]
  },
  {
   "cell_type": "markdown",
   "id": "2526c4d5",
   "metadata": {},
   "source": [
    "Количество базовых алгоритмов в catboost baseline = 1000. Mae для этого случая = 0.196321. Для дальнейшего подбора параметров выберем модель с числом деревьев = 800. Этот выбор объясняется уменьшением метрики относительно baseline и уменьшением числа алгоритмов в бустинге, что ускорит обучение модели."
   ]
  },
  {
   "cell_type": "markdown",
   "id": "dae847a8",
   "metadata": {},
   "source": [
    "### Random Optuna "
   ]
  },
  {
   "cell_type": "code",
   "execution_count": 44,
   "id": "7689f16b",
   "metadata": {},
   "outputs": [],
   "source": [
    "def objective_cat_rand(trial, X, y, n_folds, random_state, cat_feat):\n",
    "    \n",
    "    params = {\"random_state\": trial.suggest_categorical(\"random_state\", [random_state]),\n",
    "        \"cat_features\": trial.suggest_categorical(\"cat_features\", [cat_feat]),\n",
    "        \"eval_metric\": trial.suggest_categorical(\"eval_metric\", [\"MAE\"]), \n",
    "        \n",
    "        \"iterations\": trial.suggest_categorical(\"iterations\", [800]),\n",
    "        \"learning_rate\": trial.suggest_float(\"learning_rate\", 0.01, 0.1),\n",
    "        \"max_depth\": trial.suggest_int(\"max_depth\", 4, 8, step=2),\n",
    "        \"l2_leaf_reg\": trial.suggest_uniform(\"l2_leaf_reg\", 1e-5, 1e2), \n",
    "        'random_strength': trial.suggest_uniform('random_strength', 0.5, 25),\n",
    "        'border_count': trial.suggest_categorical('border_count', [32]),\n",
    "        \"bootstrap_type\": trial.suggest_categorical(\"bootstrap_type\", [\"Bayesian\", \"Bernoulli\", \"MVS\", \"No\"]),\n",
    "        'grow_policy': trial.suggest_categorical('grow_policy', [\"SymmetricTree\", \"Depthwise\", \"Lossguide\"]),\n",
    "        \"boosting_type\": trial.suggest_categorical(\"boosting_type\", ['Plain'])       \n",
    "        \n",
    "      }  \n",
    "        \n",
    "    if params[\"bootstrap_type\"] == \"Bayesian\":\n",
    "        params[\"bagging_temperature\"] = trial.suggest_float(\n",
    "            \"bagging_temperature\", 0, 100)\n",
    "    elif params[\"bootstrap_type\"] == \"Bernoulli\":\n",
    "        params[\"subsample\"] = trial.suggest_float(\n",
    "            \"subsample\", 0.1, 1, log=True)\n",
    "        \n",
    "    \n",
    "    cv = KFold(n_splits=n_folds, shuffle=True, random_state=random_state)\n",
    "\n",
    "    cv_predicts = np.empty(n_folds)\n",
    "    for idx, (train_idx, test_idx) in enumerate(cv.split(X, y)):\n",
    "        X_train, X_test = X.iloc[train_idx], X.iloc[test_idx]\n",
    "        y_train, y_test = y.iloc[train_idx], y.iloc[test_idx]\n",
    "\n",
    "        train_data = Pool(data=X_train, label=y_train, cat_features=cat_feat)\n",
    "        eval_data = Pool(data=X_test, label=y_test, cat_features=cat_feat)\n",
    "\n",
    "        model = CatBoostRegressor(**params)\n",
    "        model.fit(train_data,\n",
    "                  eval_set=eval_data,\n",
    "                  early_stopping_rounds=100,\n",
    "                  verbose=0)\n",
    "\n",
    "        preds = model.predict(X_test)\n",
    "        cv_predicts[idx] = mean_absolute_error(y_test, preds)\n",
    "\n",
    "    return np.mean(cv_predicts)"
   ]
  },
  {
   "cell_type": "code",
   "execution_count": 45,
   "id": "269edcd8",
   "metadata": {},
   "outputs": [
    {
     "name": "stderr",
     "output_type": "stream",
     "text": [
      "[I 2024-09-03 21:42:13,352] A new study created in memory with name: Catoost_random_tuning\n"
     ]
    },
    {
     "data": {
      "application/vnd.jupyter.widget-view+json": {
       "model_id": "ebdfda26ba85489fb71ad728c3a56bba",
       "version_major": 2,
       "version_minor": 0
      },
      "text/plain": [
       "  0%|          | 0/3 [00:00<?, ?it/s]"
      ]
     },
     "metadata": {},
     "output_type": "display_data"
    },
    {
     "name": "stdout",
     "output_type": "stream",
     "text": [
      "[I 2024-09-03 21:42:54,131] Trial 0 finished with value: 0.19517193999911697 and parameters: {'random_state': 10, 'cat_features': ['authors', 'language_code', 'publisher', 'genre', 'century'], 'eval_metric': 'MAE', 'iterations': 800, 'learning_rate': 0.06537884528223845, 'max_depth': 4, 'l2_leaf_reg': 15.218776355368787, 'random_strength': 4.373408710999925, 'border_count': 32, 'bootstrap_type': 'No', 'grow_policy': 'Depthwise', 'boosting_type': 'Plain'}. Best is trial 0 with value: 0.19517193999911697.\n",
      "[I 2024-09-03 21:44:47,571] Trial 1 finished with value: 0.19506777747896784 and parameters: {'random_state': 10, 'cat_features': ['authors', 'language_code', 'publisher', 'genre', 'century'], 'eval_metric': 'MAE', 'iterations': 800, 'learning_rate': 0.037601417543820216, 'max_depth': 8, 'l2_leaf_reg': 74.7986349274914, 'random_strength': 20.25708710557701, 'border_count': 32, 'bootstrap_type': 'Bernoulli', 'grow_policy': 'Depthwise', 'boosting_type': 'Plain', 'subsample': 0.880478571079749}. Best is trial 1 with value: 0.19506777747896784.\n",
      "[I 2024-09-03 21:44:53,333] Trial 2 finished with value: 0.22125474518954533 and parameters: {'random_state': 10, 'cat_features': ['authors', 'language_code', 'publisher', 'genre', 'century'], 'eval_metric': 'MAE', 'iterations': 800, 'learning_rate': 0.057803334450453894, 'max_depth': 8, 'l2_leaf_reg': 28.705329205195927, 'random_strength': 4.842683636179065, 'border_count': 32, 'bootstrap_type': 'Bayesian', 'grow_policy': 'Lossguide', 'boosting_type': 'Plain', 'bagging_temperature': 56.181121011585155}. Best is trial 1 with value: 0.19506777747896784.\n"
     ]
    }
   ],
   "source": [
    "study_cat_rand = optuna.create_study(\n",
    "    direction=\"minimize\",\n",
    "    pruner=optuna.pruners.SuccessiveHalvingPruner(),\n",
    "    study_name=\"Catoost_random_tuning\")\n",
    "func = lambda trial: objective_cat_rand(trial,\n",
    "                                   X_train,\n",
    "                                   y_train,\n",
    "                                   n_folds=training['n_folds'],\n",
    "                                   random_state=training['random_state'],\n",
    "                                   cat_feat=cat_features)\n",
    "study_cat_rand.optimize(func, n_trials=training['n_trials'], show_progress_bar=True)"
   ]
  },
  {
   "cell_type": "code",
   "execution_count": 46,
   "id": "45bdaccc",
   "metadata": {},
   "outputs": [
    {
     "name": "stdout",
     "output_type": "stream",
     "text": [
      "\tBest value (mae): 0.19506778\n",
      "\tBest params:\n",
      "\t\trandom_state: 10\n",
      "\t\tcat_features: ['authors', 'language_code', 'publisher', 'genre', 'century']\n",
      "\t\teval_metric: MAE\n",
      "\t\titerations: 800\n",
      "\t\tlearning_rate: 0.037601417543820216\n",
      "\t\tmax_depth: 8\n",
      "\t\tl2_leaf_reg: 74.7986349274914\n",
      "\t\trandom_strength: 20.25708710557701\n",
      "\t\tborder_count: 32\n",
      "\t\tbootstrap_type: Bernoulli\n",
      "\t\tgrow_policy: Depthwise\n",
      "\t\tboosting_type: Plain\n",
      "\t\tsubsample: 0.880478571079749\n"
     ]
    }
   ],
   "source": [
    "print(f\"\\tBest value (mae): {study_cat_rand.best_value:.8f}\")\n",
    "print(f\"\\tBest params:\")\n",
    "\n",
    "for key, value in study_cat_rand.best_params.items():\n",
    "    print(f\"\\t\\t{key}: {value}\")"
   ]
  },
  {
   "cell_type": "code",
   "execution_count": 47,
   "id": "56c573f9",
   "metadata": {},
   "outputs": [
    {
     "data": {
      "text/plain": [
       "<AxesSubplot:title={'left':'Hyperparameter Importances'}, xlabel='Hyperparameter Importance', ylabel='Hyperparameter'>"
      ]
     },
     "execution_count": 47,
     "metadata": {},
     "output_type": "execute_result"
    },
    {
     "data": {
      "image/png": "[encoded data removed]",
      "text/plain": [
       "<Figure size 640x480 with 1 Axes>"
      ]
     },
     "metadata": {},
     "output_type": "display_data"
    }
   ],
   "source": [
    "plot_param_importances(study_cat_rand)"
   ]
  },
  {
   "cell_type": "markdown",
   "id": "c312ac80",
   "metadata": {},
   "source": [
    "Заметно уменьшение метрики (mae). Для baseline_mae = 0.196321, после подбора параметров tuning_mae = 0.19543642. Улучшение метрики на 0.45%."
   ]
  },
  {
   "cell_type": "markdown",
   "id": "c1f5c1d8",
   "metadata": {},
   "source": [
    "## Consequental search"
   ]
  },
  {
   "cell_type": "code",
   "execution_count": 60,
   "id": "40d81cfa",
   "metadata": {},
   "outputs": [],
   "source": [
    "def objective_cat(trial, X, y, n_folds, random_state, cat_feat):\n",
    "    \n",
    "    params = {\"random_state\": trial.suggest_categorical(\"random_state\", [random_state]),\n",
    "        \"cat_features\": trial.suggest_categorical(\"cat_features\", [cat_feat]),\n",
    "        \"eval_metric\": trial.suggest_categorical(\"eval_metric\", [\"MAE\"]), \n",
    "        \n",
    "        \"iterations\": trial.suggest_categorical(\"iterations\", [800]),\n",
    "        #\"learning_rate\": trial.suggest_float(\"learning_rate\", 0.01, 0.3),\n",
    "        \"learning_rate\": trial.suggest_categorical(\"learning_rate\", [0.045358]),\n",
    "        #\"max_depth\": trial.suggest_int(\"max_depth\", 4, 16, step=2), default=6\n",
    "        \"max_depth\": trial.suggest_categorical(\"max_depth\", [6]),\n",
    "        #\"l2_leaf_reg\": trial.suggest_uniform(\"l2_leaf_reg\", 1e-5, 1e2), default=3\n",
    "        \"l2_leaf_reg\": trial.suggest_categorical(\"l2_leaf_reg\", [4.3139]),\n",
    "        #'random_strength': trial.suggest_uniform('random_strength', 0.5, 25), default=1\n",
    "        'random_strength': trial.suggest_categorical('random_strength', [9.529764]),\n",
    "        'border_count': trial.suggest_categorical('border_count', [254]),\n",
    "        'bootstrap_type': trial.suggest_categorical(\"bootstrap_type\", [\"MVS\"]),\n",
    "        'grow_policy': trial.suggest_categorical('grow_policy', [\"SymmetricTree\"]),\n",
    "        \"boosting_type\": trial.suggest_categorical(\"boosting_type\", ['Plain'])       \n",
    "        \n",
    "      }\n",
    "        \n",
    "    \n",
    "    cv = KFold(n_splits=n_folds, shuffle=True, random_state=random_state)\n",
    "\n",
    "    cv_predicts = np.empty(n_folds)\n",
    "    for idx, (train_idx, test_idx) in enumerate(cv.split(X, y)):\n",
    "        X_train, X_test = X.iloc[train_idx], X.iloc[test_idx]\n",
    "        y_train, y_test = y.iloc[train_idx], y.iloc[test_idx]\n",
    "\n",
    "        train_data = Pool(data=X_train, label=y_train, cat_features=cat_feat)\n",
    "        eval_data = Pool(data=X_test, label=y_test, cat_features=cat_feat)\n",
    "\n",
    "        model = CatBoostRegressor(**params)\n",
    "        model.fit(train_data,\n",
    "                  eval_set=eval_data,\n",
    "                  early_stopping_rounds=100,\n",
    "                  verbose=0)\n",
    "\n",
    "        preds = model.predict(X_test)\n",
    "        cv_predicts[idx] = mean_absolute_error(y_test, preds)\n",
    "\n",
    "    return np.mean(cv_predicts)"
   ]
  },
  {
   "cell_type": "code",
   "execution_count": 61,
   "id": "5e51b0f8",
   "metadata": {},
   "outputs": [
    {
     "name": "stderr",
     "output_type": "stream",
     "text": [
      "[I 2024-09-03 21:51:33,699] A new study created in memory with name: Catboost_consequent_tuning\n"
     ]
    },
    {
     "data": {
      "application/vnd.jupyter.widget-view+json": {
       "model_id": "36a79699ef024dbb8e3c95bf0043d7d3",
       "version_major": 2,
       "version_minor": 0
      },
      "text/plain": [
       "  0%|          | 0/1 [00:00<?, ?it/s]"
      ]
     },
     "metadata": {},
     "output_type": "display_data"
    },
    {
     "name": "stdout",
     "output_type": "stream",
     "text": [
      "[I 2024-09-03 21:53:01,865] Trial 0 finished with value: 0.1942710524949348 and parameters: {'random_state': 10, 'cat_features': ['authors', 'language_code', 'publisher', 'genre', 'century'], 'eval_metric': 'MAE', 'iterations': 800, 'learning_rate': 0.045358, 'max_depth': 6, 'l2_leaf_reg': 4.3139, 'random_strength': 9.529764, 'border_count': 254, 'bootstrap_type': 'MVS', 'grow_policy': 'SymmetricTree', 'boosting_type': 'Plain'}. Best is trial 0 with value: 0.1942710524949348.\n"
     ]
    }
   ],
   "source": [
    "study_cat = optuna.create_study(\n",
    "    direction=\"minimize\",\n",
    "    pruner=optuna.pruners.SuccessiveHalvingPruner(),\n",
    "    study_name=\"Catboost_consequent_tuning\")\n",
    "func = lambda trial: objective_cat(trial,\n",
    "                                   X_train,\n",
    "                                   y_train,\n",
    "                                   n_folds=training['n_folds'],\n",
    "                                   random_state=training['random_state'],\n",
    "                                   cat_feat=cat_features)\n",
    "study_cat.optimize(func, n_trials=1, show_progress_bar=True)"
   ]
  },
  {
   "cell_type": "code",
   "execution_count": 62,
   "id": "b62ca3d3",
   "metadata": {},
   "outputs": [
    {
     "name": "stdout",
     "output_type": "stream",
     "text": [
      "\tBest value (mae): 0.19427105\n",
      "\tBest params:\n",
      "\t\trandom_state: 10\n",
      "\t\tcat_features: ['authors', 'language_code', 'publisher', 'genre', 'century']\n",
      "\t\teval_metric: MAE\n",
      "\t\titerations: 800\n",
      "\t\tlearning_rate: 0.045358\n",
      "\t\tmax_depth: 6\n",
      "\t\tl2_leaf_reg: 4.3139\n",
      "\t\trandom_strength: 9.529764\n",
      "\t\tborder_count: 254\n",
      "\t\tbootstrap_type: MVS\n",
      "\t\tgrow_policy: SymmetricTree\n",
      "\t\tboosting_type: Plain\n"
     ]
    }
   ],
   "source": [
    "print(f\"\\tBest value (mae): {study_cat.best_value:.8f}\")\n",
    "print(f\"\\tBest params:\")\n",
    "\n",
    "for key, value in study_cat.best_params.items():\n",
    "    print(f\"\\t\\t{key}: {value}\")"
   ]
  },
  {
   "cell_type": "markdown",
   "id": "3f486cfa",
   "metadata": {},
   "source": [
    "Путём последовательного подбора удалось уменьшить mae на 1% относительно baseline и на 0.6% относительно результатов optuna. "
   ]
  },
  {
   "cell_type": "markdown",
   "id": "b6aceede",
   "metadata": {},
   "source": [
    "# Обучение с лучшими параметрами"
   ]
  },
  {
   "cell_type": "code",
   "execution_count": 63,
   "id": "5baaf579",
   "metadata": {},
   "outputs": [],
   "source": [
    "# разбиение на валидационную выборку\n",
    "X_train_, X_val, y_train_, y_val = train_test_split(X_train,\n",
    "                                                    y_train,\n",
    "                                                    test_size=training['test_size'],\n",
    "                                                    random_state=training['random_state'])\n",
    "eval_set = [(X_val, y_val)]"
   ]
  },
  {
   "cell_type": "code",
   "execution_count": 64,
   "id": "dfbac082",
   "metadata": {},
   "outputs": [],
   "source": [
    "# обучение с лучшими параметрами\n",
    "cat_opt = CatBoostRegressor(**study_cat.best_params)\n",
    "cat_opt.fit(X_train,\n",
    "               y_train,\n",
    "               cat_features=cat_features,\n",
    "               verbose=False,\n",
    "               eval_set=eval_set)\n",
    "\n",
    "y_pred_opt = cat_opt.predict(X_test)"
   ]
  },
  {
   "cell_type": "code",
   "execution_count": 65,
   "id": "cc6feec5",
   "metadata": {},
   "outputs": [
    {
     "data": {
      "text/html": [
       "<div>\n",
       "<style scoped>\n",
       "    .dataframe tbody tr th:only-of-type {\n",
       "        vertical-align: middle;\n",
       "    }\n",
       "\n",
       "    .dataframe tbody tr th {\n",
       "        vertical-align: top;\n",
       "    }\n",
       "\n",
       "    .dataframe thead th {\n",
       "        text-align: right;\n",
       "    }\n",
       "</style>\n",
       "<table border=\"1\" class=\"dataframe\">\n",
       "  <thead>\n",
       "    <tr style=\"text-align: right;\">\n",
       "      <th></th>\n",
       "      <th>model</th>\n",
       "      <th>MAE</th>\n",
       "      <th>MSE</th>\n",
       "      <th>R2</th>\n",
       "      <th>MAPE_%</th>\n",
       "      <th>WAPE_%</th>\n",
       "    </tr>\n",
       "  </thead>\n",
       "  <tbody>\n",
       "    <tr>\n",
       "      <th>0</th>\n",
       "      <td>CatBoost_baseline</td>\n",
       "      <td>0.196060</td>\n",
       "      <td>0.069811</td>\n",
       "      <td>0.207791</td>\n",
       "      <td>5.148828</td>\n",
       "      <td>4.987110</td>\n",
       "    </tr>\n",
       "    <tr>\n",
       "      <th>0</th>\n",
       "      <td>CatBoost_tuned</td>\n",
       "      <td>0.195987</td>\n",
       "      <td>0.069777</td>\n",
       "      <td>0.208171</td>\n",
       "      <td>5.150193</td>\n",
       "      <td>4.985266</td>\n",
       "    </tr>\n",
       "    <tr>\n",
       "      <th>0</th>\n",
       "      <td>CatBoost_tuned</td>\n",
       "      <td>0.195778</td>\n",
       "      <td>0.069302</td>\n",
       "      <td>0.213567</td>\n",
       "      <td>5.140309</td>\n",
       "      <td>4.979935</td>\n",
       "    </tr>\n",
       "  </tbody>\n",
       "</table>\n",
       "</div>"
      ],
      "text/plain": [
       "               model       MAE       MSE        R2    MAPE_%    WAPE_%\n",
       "0  CatBoost_baseline  0.196060  0.069811  0.207791  5.148828  4.987110\n",
       "0     CatBoost_tuned  0.195987  0.069777  0.208171  5.150193  4.985266\n",
       "0     CatBoost_tuned  0.195778  0.069302  0.213567  5.140309  4.979935"
      ]
     },
     "execution_count": 65,
     "metadata": {},
     "output_type": "execute_result"
    }
   ],
   "source": [
    "cat_tuning_metrics = pd.concat([\n",
    "    cat_tuning_metrics,\n",
    "    get_metrics_regression(y_test=y_test,\n",
    "                           y_pred=y_pred_opt,\n",
    "                           X_test=X_test,\n",
    "                           name='CatBoost_tuned')\n",
    "])\n",
    "\n",
    "cat_tuning_metrics"
   ]
  },
  {
   "cell_type": "code",
   "execution_count": 66,
   "id": "3a199d3d",
   "metadata": {},
   "outputs": [
    {
     "name": "stdout",
     "output_type": "stream",
     "text": [
      "mean_absolute_error train: 0.135\n",
      "mean_absolute_error test: 0.196\n",
      "delta = 30.8 %\n"
     ]
    }
   ],
   "source": [
    "check_overfitting(cat_opt, X_train, y_train, X_test, y_test, mean_absolute_error)"
   ]
  },
  {
   "cell_type": "markdown",
   "id": "07ff602f",
   "metadata": {},
   "source": [
    "# Сохранение модели"
   ]
  },
  {
   "cell_type": "code",
   "execution_count": 67,
   "id": "de944df6",
   "metadata": {},
   "outputs": [
    {
     "data": {
      "text/plain": [
       "'../models/model.joblib'"
      ]
     },
     "execution_count": 67,
     "metadata": {},
     "output_type": "execute_result"
    }
   ],
   "source": [
    "training['model_path']"
   ]
  },
  {
   "cell_type": "code",
   "execution_count": 68,
   "id": "509ff0ea",
   "metadata": {},
   "outputs": [
    {
     "data": {
      "text/plain": [
       "['../models/model.joblib']"
      ]
     },
     "execution_count": 68,
     "metadata": {},
     "output_type": "execute_result"
    }
   ],
   "source": [
    "model_path = training['model_path']\n",
    "\n",
    "# сохранение модели\n",
    "joblib.dump(cat_opt, model_path)"
   ]
  },
  {
   "cell_type": "code",
   "execution_count": 69,
   "id": "01b3e0f0",
   "metadata": {},
   "outputs": [
    {
     "data": {
      "text/plain": [
       "'../report/metrics.json'"
      ]
     },
     "execution_count": 69,
     "metadata": {},
     "output_type": "execute_result"
    }
   ],
   "source": [
    "training['metrics_path']"
   ]
  },
  {
   "cell_type": "code",
   "execution_count": 72,
   "id": "25dc1636",
   "metadata": {},
   "outputs": [],
   "source": [
    "metrics_path = training['metrics_path']\n",
    "\n",
    "# сохранение метрик\n",
    "metrics = get_metrics_regression(y_test, y_pred_opt, X_test, 'Catboost')\n",
    "with open(metrics_path, 'w') as file:\n",
    "    metrics.to_json(file)"
   ]
  },
  {
   "cell_type": "code",
   "execution_count": 73,
   "id": "b5b01722",
   "metadata": {},
   "outputs": [
    {
     "data": {
      "text/plain": [
       "{'model': {'0': 'Catboost'},\n",
       " 'MAE': {'0': 0.1957776761},\n",
       " 'MSE': {'0': 0.0693018516},\n",
       " 'R2': {'0': 0.2135665134},\n",
       " 'MAPE_%': {'0': 5.1403094335},\n",
       " 'WAPE_%': {'0': 4.9799351247}}"
      ]
     },
     "execution_count": 73,
     "metadata": {},
     "output_type": "execute_result"
    }
   ],
   "source": [
    "# проверяем наличие метрик\n",
    "with open(metrics_path) as json_file:\n",
    "    metrics = json.load(json_file)\n",
    "metrics"
   ]
  },
  {
   "cell_type": "code",
   "execution_count": null,
   "id": "d32d1010",
   "metadata": {},
   "outputs": [],
   "source": []
  }
 ],
 "metadata": {
  "kernelspec": {
   "display_name": "Python 3 (ipykernel)",
   "language": "python",
   "name": "python3"
  },
  "language_info": {
   "codemirror_mode": {
    "name": "ipython",
    "version": 3
   },
   "file_extension": ".py",
   "mimetype": "text/x-python",
   "name": "python",
   "nbconvert_exporter": "python",
   "pygments_lexer": "ipython3",
   "version": "3.9.13"
  }
 },
 "nbformat": 4,
 "nbformat_minor": 5
}
